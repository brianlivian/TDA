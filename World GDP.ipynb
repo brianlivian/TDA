{
 "cells": [
  {
   "cell_type": "code",
   "execution_count": 1,
   "id": "bcc1ec3d",
   "metadata": {},
   "outputs": [],
   "source": [
    "import yfinance as yf\n",
    "import numpy as np\n",
    "import numpy as np\n",
    "from gtda.time_series import SlidingWindow\n",
    "from gtda.diagrams import PersistenceLandscape\n",
    "import matplotlib.pyplot as plt\n",
    "from matplotlib.pyplot import figure\n",
    "import seaborn as sns\n",
    "import pandas as pd\n",
    "\n",
    "import warnings\n",
    "warnings.filterwarnings('ignore')\n",
    "\n",
    "# !pip install spectrum \n",
    "from spectrum.periodogram import speriodogram\n",
    "pd.set_option('display.max_columns', None)"
   ]
  },
  {
   "cell_type": "code",
   "execution_count": 8,
   "id": "2b284291",
   "metadata": {},
   "outputs": [],
   "source": [
    "# https://data.worldbank.org/indicator/NY.GDP.PCAP.CD\n",
    "# gdp = pd.read_csv(r'/Users/brianlivian/Downloads/GDP Per Capita/GDP Per Capita.csv')\n",
    "# gdp = gdp.drop(['Country Code', 'Indicator Name', 'Indicator Code', 'Unnamed: 66'], axis = 1)\n",
    "# gdp = pd.melt(gdp, id_vars = 'Country Name', var_name = 'Year', value_name = 'GDP')\n",
    "# gdp.pivot(index = 'Year', columns = 'Country Name').reset_index().to_csv('GDP Pivoted.csv')"
   ]
  },
  {
   "cell_type": "code",
   "execution_count": 43,
   "id": "80ea254c",
   "metadata": {},
   "outputs": [],
   "source": [
    "gdp = pd.read_csv(r'/Users/brianlivian/Desktop/GDP Cleaned.csv')\n",
    "gdp = gdp.dropna(axis = 1)\n",
    "gdp = gdp.set_index('Year')"
   ]
  },
  {
   "cell_type": "code",
   "execution_count": 44,
   "id": "bb489b01",
   "metadata": {},
   "outputs": [
    {
     "data": {
      "text/html": [
       "<div>\n",
       "<style scoped>\n",
       "    .dataframe tbody tr th:only-of-type {\n",
       "        vertical-align: middle;\n",
       "    }\n",
       "\n",
       "    .dataframe tbody tr th {\n",
       "        vertical-align: top;\n",
       "    }\n",
       "\n",
       "    .dataframe thead th {\n",
       "        text-align: right;\n",
       "    }\n",
       "</style>\n",
       "<table border=\"1\" class=\"dataframe\">\n",
       "  <thead>\n",
       "    <tr style=\"text-align: right;\">\n",
       "      <th></th>\n",
       "      <th>Africa Eastern and Southern</th>\n",
       "      <th>Africa Western and Central</th>\n",
       "      <th>Algeria</th>\n",
       "      <th>Australia</th>\n",
       "      <th>Austria</th>\n",
       "      <th>Bahamas, The</th>\n",
       "      <th>Bangladesh</th>\n",
       "      <th>Belgium</th>\n",
       "      <th>Belize</th>\n",
       "      <th>Benin</th>\n",
       "      <th>Bermuda</th>\n",
       "      <th>Bolivia</th>\n",
       "      <th>Botswana</th>\n",
       "      <th>Brazil</th>\n",
       "      <th>Burkina Faso</th>\n",
       "      <th>Burundi</th>\n",
       "      <th>Cameroon</th>\n",
       "      <th>Canada</th>\n",
       "      <th>Caribbean small states</th>\n",
       "      <th>Central African Republic</th>\n",
       "      <th>Chad</th>\n",
       "      <th>Chile</th>\n",
       "      <th>China</th>\n",
       "      <th>Colombia</th>\n",
       "      <th>Congo, Dem. Rep.</th>\n",
       "      <th>Congo, Rep.</th>\n",
       "      <th>Costa Rica</th>\n",
       "      <th>Cote d'Ivoire</th>\n",
       "      <th>Dominican Republic</th>\n",
       "      <th>Early-demographic dividend</th>\n",
       "      <th>East Asia &amp; Pacific</th>\n",
       "      <th>East Asia &amp; Pacific (IDA &amp; IBRD countries)</th>\n",
       "      <th>East Asia &amp; Pacific (excluding high income)</th>\n",
       "      <th>Ecuador</th>\n",
       "      <th>Eswatini</th>\n",
       "      <th>Euro area</th>\n",
       "      <th>Fiji</th>\n",
       "      <th>Finland</th>\n",
       "      <th>France</th>\n",
       "      <th>Gabon</th>\n",
       "      <th>Ghana</th>\n",
       "      <th>Greece</th>\n",
       "      <th>Guatemala</th>\n",
       "      <th>Guyana</th>\n",
       "      <th>Haiti</th>\n",
       "      <th>Heavily indebted poor countries (HIPC)</th>\n",
       "      <th>High income</th>\n",
       "      <th>Honduras</th>\n",
       "      <th>Hong Kong SAR, China</th>\n",
       "      <th>IBRD only</th>\n",
       "      <th>IDA &amp; IBRD total</th>\n",
       "      <th>IDA blend</th>\n",
       "      <th>IDA only</th>\n",
       "      <th>IDA total</th>\n",
       "      <th>Iceland</th>\n",
       "      <th>India</th>\n",
       "      <th>Ireland</th>\n",
       "      <th>Italy</th>\n",
       "      <th>Jamaica</th>\n",
       "      <th>Japan</th>\n",
       "      <th>Kenya</th>\n",
       "      <th>Korea, Rep.</th>\n",
       "      <th>Late-demographic dividend</th>\n",
       "      <th>Latin America &amp; Caribbean</th>\n",
       "      <th>Latin America &amp; Caribbean (excluding high income)</th>\n",
       "      <th>Latin America &amp; the Caribbean (IDA &amp; IBRD countries)</th>\n",
       "      <th>Lesotho</th>\n",
       "      <th>Low &amp; middle income</th>\n",
       "      <th>Lower middle income</th>\n",
       "      <th>Luxembourg</th>\n",
       "      <th>Madagascar</th>\n",
       "      <th>Malawi</th>\n",
       "      <th>Malaysia</th>\n",
       "      <th>Mexico</th>\n",
       "      <th>Middle income</th>\n",
       "      <th>Morocco</th>\n",
       "      <th>Nepal</th>\n",
       "      <th>Netherlands</th>\n",
       "      <th>Nicaragua</th>\n",
       "      <th>Niger</th>\n",
       "      <th>Nigeria</th>\n",
       "      <th>North America</th>\n",
       "      <th>Norway</th>\n",
       "      <th>OECD members</th>\n",
       "      <th>Pakistan</th>\n",
       "      <th>Panama</th>\n",
       "      <th>Papua New Guinea</th>\n",
       "      <th>Peru</th>\n",
       "      <th>Philippines</th>\n",
       "      <th>Portugal</th>\n",
       "      <th>Post-demographic dividend</th>\n",
       "      <th>Pre-demographic dividend</th>\n",
       "      <th>Rwanda</th>\n",
       "      <th>Senegal</th>\n",
       "      <th>Seychelles</th>\n",
       "      <th>Sierra Leone</th>\n",
       "      <th>Singapore</th>\n",
       "      <th>South Africa</th>\n",
       "      <th>South Asia</th>\n",
       "      <th>South Asia (IDA &amp; IBRD)</th>\n",
       "      <th>Spain</th>\n",
       "      <th>Sri Lanka</th>\n",
       "      <th>St. Kitts and Nevis</th>\n",
       "      <th>St. Vincent and the Grenadines</th>\n",
       "      <th>Sub-Saharan Africa</th>\n",
       "      <th>Sub-Saharan Africa (IDA &amp; IBRD countries)</th>\n",
       "      <th>Sub-Saharan Africa (excluding high income)</th>\n",
       "      <th>Sudan</th>\n",
       "      <th>Suriname</th>\n",
       "      <th>Sweden</th>\n",
       "      <th>Thailand</th>\n",
       "      <th>Togo</th>\n",
       "      <th>Trinidad and Tobago</th>\n",
       "      <th>Turkiye</th>\n",
       "      <th>Uganda</th>\n",
       "      <th>United Kingdom</th>\n",
       "      <th>United States</th>\n",
       "      <th>Upper middle income</th>\n",
       "      <th>Uruguay</th>\n",
       "      <th>World</th>\n",
       "      <th>Zambia</th>\n",
       "      <th>Zimbabwe</th>\n",
       "    </tr>\n",
       "    <tr>\n",
       "      <th>Year</th>\n",
       "      <th></th>\n",
       "      <th></th>\n",
       "      <th></th>\n",
       "      <th></th>\n",
       "      <th></th>\n",
       "      <th></th>\n",
       "      <th></th>\n",
       "      <th></th>\n",
       "      <th></th>\n",
       "      <th></th>\n",
       "      <th></th>\n",
       "      <th></th>\n",
       "      <th></th>\n",
       "      <th></th>\n",
       "      <th></th>\n",
       "      <th></th>\n",
       "      <th></th>\n",
       "      <th></th>\n",
       "      <th></th>\n",
       "      <th></th>\n",
       "      <th></th>\n",
       "      <th></th>\n",
       "      <th></th>\n",
       "      <th></th>\n",
       "      <th></th>\n",
       "      <th></th>\n",
       "      <th></th>\n",
       "      <th></th>\n",
       "      <th></th>\n",
       "      <th></th>\n",
       "      <th></th>\n",
       "      <th></th>\n",
       "      <th></th>\n",
       "      <th></th>\n",
       "      <th></th>\n",
       "      <th></th>\n",
       "      <th></th>\n",
       "      <th></th>\n",
       "      <th></th>\n",
       "      <th></th>\n",
       "      <th></th>\n",
       "      <th></th>\n",
       "      <th></th>\n",
       "      <th></th>\n",
       "      <th></th>\n",
       "      <th></th>\n",
       "      <th></th>\n",
       "      <th></th>\n",
       "      <th></th>\n",
       "      <th></th>\n",
       "      <th></th>\n",
       "      <th></th>\n",
       "      <th></th>\n",
       "      <th></th>\n",
       "      <th></th>\n",
       "      <th></th>\n",
       "      <th></th>\n",
       "      <th></th>\n",
       "      <th></th>\n",
       "      <th></th>\n",
       "      <th></th>\n",
       "      <th></th>\n",
       "      <th></th>\n",
       "      <th></th>\n",
       "      <th></th>\n",
       "      <th></th>\n",
       "      <th></th>\n",
       "      <th></th>\n",
       "      <th></th>\n",
       "      <th></th>\n",
       "      <th></th>\n",
       "      <th></th>\n",
       "      <th></th>\n",
       "      <th></th>\n",
       "      <th></th>\n",
       "      <th></th>\n",
       "      <th></th>\n",
       "      <th></th>\n",
       "      <th></th>\n",
       "      <th></th>\n",
       "      <th></th>\n",
       "      <th></th>\n",
       "      <th></th>\n",
       "      <th></th>\n",
       "      <th></th>\n",
       "      <th></th>\n",
       "      <th></th>\n",
       "      <th></th>\n",
       "      <th></th>\n",
       "      <th></th>\n",
       "      <th></th>\n",
       "      <th></th>\n",
       "      <th></th>\n",
       "      <th></th>\n",
       "      <th></th>\n",
       "      <th></th>\n",
       "      <th></th>\n",
       "      <th></th>\n",
       "      <th></th>\n",
       "      <th></th>\n",
       "      <th></th>\n",
       "      <th></th>\n",
       "      <th></th>\n",
       "      <th></th>\n",
       "      <th></th>\n",
       "      <th></th>\n",
       "      <th></th>\n",
       "      <th></th>\n",
       "      <th></th>\n",
       "      <th></th>\n",
       "      <th></th>\n",
       "      <th></th>\n",
       "      <th></th>\n",
       "      <th></th>\n",
       "      <th></th>\n",
       "      <th></th>\n",
       "      <th></th>\n",
       "      <th></th>\n",
       "      <th></th>\n",
       "      <th></th>\n",
       "      <th></th>\n",
       "      <th></th>\n",
       "    </tr>\n",
       "  </thead>\n",
       "  <tbody>\n",
       "    <tr>\n",
       "      <th>1960</th>\n",
       "      <td>162.726325</td>\n",
       "      <td>107.930722</td>\n",
       "      <td>246.303751</td>\n",
       "      <td>1810.619230</td>\n",
       "      <td>935.460427</td>\n",
       "      <td>1550.267699</td>\n",
       "      <td>89.035239</td>\n",
       "      <td>1273.691659</td>\n",
       "      <td>304.903860</td>\n",
       "      <td>93.022700</td>\n",
       "      <td>1902.402119</td>\n",
       "      <td>102.237722</td>\n",
       "      <td>60.493958</td>\n",
       "      <td>235.946883</td>\n",
       "      <td>68.424734</td>\n",
       "      <td>70.051910</td>\n",
       "      <td>118.643145</td>\n",
       "      <td>2259.294285</td>\n",
       "      <td>448.256417</td>\n",
       "      <td>74.687347</td>\n",
       "      <td>104.471719</td>\n",
       "      <td>505.349325</td>\n",
       "      <td>89.520542</td>\n",
       "      <td>251.041523</td>\n",
       "      <td>220.313990</td>\n",
       "      <td>129.370336</td>\n",
       "      <td>381.363682</td>\n",
       "      <td>155.899633</td>\n",
       "      <td>204.114871</td>\n",
       "      <td>161.165351</td>\n",
       "      <td>148.423623</td>\n",
       "      <td>91.941143</td>\n",
       "      <td>90.902092</td>\n",
       "      <td>455.462389</td>\n",
       "      <td>104.214056</td>\n",
       "      <td>923.187341</td>\n",
       "      <td>285.474286</td>\n",
       "      <td>1179.353011</td>\n",
       "      <td>1334.689512</td>\n",
       "      <td>282.417179</td>\n",
       "      <td>183.428007</td>\n",
       "      <td>520.322744</td>\n",
       "      <td>252.756171</td>\n",
       "      <td>297.676423</td>\n",
       "      <td>70.661085</td>\n",
       "      <td>107.339918</td>\n",
       "      <td>1372.007466</td>\n",
       "      <td>164.644399</td>\n",
       "      <td>429.442874</td>\n",
       "      <td>170.450504</td>\n",
       "      <td>158.125407</td>\n",
       "      <td>100.203175</td>\n",
       "      <td>98.852757</td>\n",
       "      <td>97.209556</td>\n",
       "      <td>1414.982269</td>\n",
       "      <td>82.188603</td>\n",
       "      <td>685.614712</td>\n",
       "      <td>804.492623</td>\n",
       "      <td>429.254146</td>\n",
       "      <td>475.319076</td>\n",
       "      <td>97.445501</td>\n",
       "      <td>158.249303</td>\n",
       "      <td>174.920811</td>\n",
       "      <td>384.416612</td>\n",
       "      <td>348.669269</td>\n",
       "      <td>379.000405</td>\n",
       "      <td>41.300365</td>\n",
       "      <td>151.695442</td>\n",
       "      <td>92.099219</td>\n",
       "      <td>2242.015817</td>\n",
       "      <td>131.993165</td>\n",
       "      <td>44.523943</td>\n",
       "      <td>234.938897</td>\n",
       "      <td>345.230541</td>\n",
       "      <td>155.609666</td>\n",
       "      <td>164.800827</td>\n",
       "      <td>50.304938</td>\n",
       "      <td>1068.784587</td>\n",
       "      <td>126.248168</td>\n",
       "      <td>132.651771</td>\n",
       "      <td>92.960466</td>\n",
       "      <td>2939.448335</td>\n",
       "      <td>1441.755660</td>\n",
       "      <td>1335.424217</td>\n",
       "      <td>83.337946</td>\n",
       "      <td>474.090670</td>\n",
       "      <td>102.176659</td>\n",
       "      <td>253.264921</td>\n",
       "      <td>286.104330</td>\n",
       "      <td>360.499299</td>\n",
       "      <td>1387.393967</td>\n",
       "      <td>111.590036</td>\n",
       "      <td>40.537211</td>\n",
       "      <td>312.992963</td>\n",
       "      <td>288.057842</td>\n",
       "      <td>138.938640</td>\n",
       "      <td>428.058980</td>\n",
       "      <td>511.618737</td>\n",
       "      <td>82.345399</td>\n",
       "      <td>82.345399</td>\n",
       "      <td>396.392253</td>\n",
       "      <td>142.779622</td>\n",
       "      <td>241.539163</td>\n",
       "      <td>161.375297</td>\n",
       "      <td>137.161909</td>\n",
       "      <td>137.161909</td>\n",
       "      <td>137.138334</td>\n",
       "      <td>125.859840</td>\n",
       "      <td>346.163199</td>\n",
       "      <td>2114.002973</td>\n",
       "      <td>100.767475</td>\n",
       "      <td>76.638697</td>\n",
       "      <td>631.706585</td>\n",
       "      <td>509.005545</td>\n",
       "      <td>62.509625</td>\n",
       "      <td>1397.594803</td>\n",
       "      <td>3007.123445</td>\n",
       "      <td>216.951075</td>\n",
       "      <td>489.350725</td>\n",
       "      <td>459.096735</td>\n",
       "      <td>232.188564</td>\n",
       "      <td>278.813847</td>\n",
       "    </tr>\n",
       "    <tr>\n",
       "      <th>1961</th>\n",
       "      <td>162.555968</td>\n",
       "      <td>113.080062</td>\n",
       "      <td>214.771980</td>\n",
       "      <td>1877.616638</td>\n",
       "      <td>1031.815004</td>\n",
       "      <td>1651.317673</td>\n",
       "      <td>97.595292</td>\n",
       "      <td>1350.197673</td>\n",
       "      <td>316.413629</td>\n",
       "      <td>95.572232</td>\n",
       "      <td>1961.538169</td>\n",
       "      <td>109.061304</td>\n",
       "      <td>64.176140</td>\n",
       "      <td>232.480546</td>\n",
       "      <td>71.558180</td>\n",
       "      <td>71.167188</td>\n",
       "      <td>123.514808</td>\n",
       "      <td>2240.433039</td>\n",
       "      <td>476.901484</td>\n",
       "      <td>80.688064</td>\n",
       "      <td>109.129251</td>\n",
       "      <td>555.134403</td>\n",
       "      <td>75.805838</td>\n",
       "      <td>274.052264</td>\n",
       "      <td>197.391359</td>\n",
       "      <td>145.405979</td>\n",
       "      <td>355.002749</td>\n",
       "      <td>170.243050</td>\n",
       "      <td>192.027613</td>\n",
       "      <td>158.406567</td>\n",
       "      <td>148.655534</td>\n",
       "      <td>80.999525</td>\n",
       "      <td>80.061756</td>\n",
       "      <td>375.221305</td>\n",
       "      <td>125.311492</td>\n",
       "      <td>1005.022273</td>\n",
       "      <td>287.267056</td>\n",
       "      <td>1327.427224</td>\n",
       "      <td>1428.046001</td>\n",
       "      <td>331.435802</td>\n",
       "      <td>190.196504</td>\n",
       "      <td>590.780055</td>\n",
       "      <td>253.227290</td>\n",
       "      <td>315.385460</td>\n",
       "      <td>68.764339</td>\n",
       "      <td>107.567308</td>\n",
       "      <td>1434.115616</td>\n",
       "      <td>169.909755</td>\n",
       "      <td>436.754412</td>\n",
       "      <td>161.381511</td>\n",
       "      <td>151.426256</td>\n",
       "      <td>104.729950</td>\n",
       "      <td>101.138803</td>\n",
       "      <td>100.220538</td>\n",
       "      <td>1418.125870</td>\n",
       "      <td>85.354301</td>\n",
       "      <td>739.276406</td>\n",
       "      <td>887.336745</td>\n",
       "      <td>453.057834</td>\n",
       "      <td>568.907743</td>\n",
       "      <td>94.651293</td>\n",
       "      <td>93.828649</td>\n",
       "      <td>161.725951</td>\n",
       "      <td>396.456378</td>\n",
       "      <td>355.117662</td>\n",
       "      <td>390.205816</td>\n",
       "      <td>41.856749</td>\n",
       "      <td>144.055238</td>\n",
       "      <td>95.349598</td>\n",
       "      <td>2222.366366</td>\n",
       "      <td>133.847761</td>\n",
       "      <td>46.581585</td>\n",
       "      <td>225.933594</td>\n",
       "      <td>363.393271</td>\n",
       "      <td>147.503903</td>\n",
       "      <td>158.923584</td>\n",
       "      <td>51.811249</td>\n",
       "      <td>1159.392357</td>\n",
       "      <td>131.450653</td>\n",
       "      <td>139.340323</td>\n",
       "      <td>96.979030</td>\n",
       "      <td>2991.592897</td>\n",
       "      <td>1560.324931</td>\n",
       "      <td>1384.981170</td>\n",
       "      <td>89.409034</td>\n",
       "      <td>513.251679</td>\n",
       "      <td>106.585325</td>\n",
       "      <td>277.568763</td>\n",
       "      <td>300.842042</td>\n",
       "      <td>382.729947</td>\n",
       "      <td>1449.261704</td>\n",
       "      <td>112.796793</td>\n",
       "      <td>40.689268</td>\n",
       "      <td>321.361240</td>\n",
       "      <td>270.279363</td>\n",
       "      <td>139.363570</td>\n",
       "      <td>449.151071</td>\n",
       "      <td>526.461750</td>\n",
       "      <td>86.046083</td>\n",
       "      <td>86.046083</td>\n",
       "      <td>450.053289</td>\n",
       "      <td>142.838142</td>\n",
       "      <td>243.832122</td>\n",
       "      <td>170.381211</td>\n",
       "      <td>139.415203</td>\n",
       "      <td>139.415203</td>\n",
       "      <td>139.395763</td>\n",
       "      <td>133.082245</td>\n",
       "      <td>363.958326</td>\n",
       "      <td>2288.921701</td>\n",
       "      <td>107.498001</td>\n",
       "      <td>79.120282</td>\n",
       "      <td>676.401178</td>\n",
       "      <td>283.828284</td>\n",
       "      <td>63.220967</td>\n",
       "      <td>1472.385714</td>\n",
       "      <td>3066.562869</td>\n",
       "      <td>195.205255</td>\n",
       "      <td>601.703003</td>\n",
       "      <td>471.544201</td>\n",
       "      <td>220.042067</td>\n",
       "      <td>280.828663</td>\n",
       "    </tr>\n",
       "    <tr>\n",
       "      <th>1962</th>\n",
       "      <td>172.271022</td>\n",
       "      <td>118.829461</td>\n",
       "      <td>172.242509</td>\n",
       "      <td>1854.656834</td>\n",
       "      <td>1087.834243</td>\n",
       "      <td>1752.840006</td>\n",
       "      <td>100.122130</td>\n",
       "      <td>1438.523233</td>\n",
       "      <td>327.099997</td>\n",
       "      <td>94.464497</td>\n",
       "      <td>2020.385965</td>\n",
       "      <td>116.924968</td>\n",
       "      <td>68.050349</td>\n",
       "      <td>251.348317</td>\n",
       "      <td>76.520549</td>\n",
       "      <td>73.435331</td>\n",
       "      <td>128.594637</td>\n",
       "      <td>2268.585346</td>\n",
       "      <td>494.736372</td>\n",
       "      <td>80.212712</td>\n",
       "      <td>114.581807</td>\n",
       "      <td>638.945360</td>\n",
       "      <td>70.909412</td>\n",
       "      <td>289.917946</td>\n",
       "      <td>235.633524</td>\n",
       "      <td>155.738527</td>\n",
       "      <td>334.309249</td>\n",
       "      <td>171.128640</td>\n",
       "      <td>234.051629</td>\n",
       "      <td>159.405809</td>\n",
       "      <td>149.662986</td>\n",
       "      <td>72.997084</td>\n",
       "      <td>72.147882</td>\n",
       "      <td>315.688704</td>\n",
       "      <td>131.162090</td>\n",
       "      <td>1106.286139</td>\n",
       "      <td>291.473334</td>\n",
       "      <td>1411.702398</td>\n",
       "      <td>1578.284538</td>\n",
       "      <td>357.523762</td>\n",
       "      <td>195.469399</td>\n",
       "      <td>617.057758</td>\n",
       "      <td>261.179134</td>\n",
       "      <td>321.545237</td>\n",
       "      <td>70.138046</td>\n",
       "      <td>114.311615</td>\n",
       "      <td>1528.486014</td>\n",
       "      <td>179.876306</td>\n",
       "      <td>487.821134</td>\n",
       "      <td>162.570762</td>\n",
       "      <td>153.512452</td>\n",
       "      <td>109.320378</td>\n",
       "      <td>106.812745</td>\n",
       "      <td>105.407725</td>\n",
       "      <td>1562.230730</td>\n",
       "      <td>89.881756</td>\n",
       "      <td>797.006288</td>\n",
       "      <td>990.260152</td>\n",
       "      <td>463.890513</td>\n",
       "      <td>639.640785</td>\n",
       "      <td>100.394495</td>\n",
       "      <td>106.148506</td>\n",
       "      <td>162.578170</td>\n",
       "      <td>422.653940</td>\n",
       "      <td>375.557190</td>\n",
       "      <td>415.532998</td>\n",
       "      <td>48.162032</td>\n",
       "      <td>145.133716</td>\n",
       "      <td>94.689203</td>\n",
       "      <td>2311.798849</td>\n",
       "      <td>138.120004</td>\n",
       "      <td>47.698384</td>\n",
       "      <td>230.260594</td>\n",
       "      <td>378.153495</td>\n",
       "      <td>147.984713</td>\n",
       "      <td>181.182648</td>\n",
       "      <td>55.025689</td>\n",
       "      <td>1240.677894</td>\n",
       "      <td>140.557346</td>\n",
       "      <td>148.189160</td>\n",
       "      <td>104.387029</td>\n",
       "      <td>3155.097538</td>\n",
       "      <td>1667.247430</td>\n",
       "      <td>1474.283507</td>\n",
       "      <td>91.319185</td>\n",
       "      <td>542.328186</td>\n",
       "      <td>111.600465</td>\n",
       "      <td>305.761617</td>\n",
       "      <td>176.460035</td>\n",
       "      <td>407.852844</td>\n",
       "      <td>1545.755736</td>\n",
       "      <td>120.383382</td>\n",
       "      <td>40.944182</td>\n",
       "      <td>320.501539</td>\n",
       "      <td>287.044788</td>\n",
       "      <td>143.472648</td>\n",
       "      <td>472.085824</td>\n",
       "      <td>546.261935</td>\n",
       "      <td>89.911328</td>\n",
       "      <td>89.911328</td>\n",
       "      <td>520.206131</td>\n",
       "      <td>138.536654</td>\n",
       "      <td>246.101178</td>\n",
       "      <td>174.496077</td>\n",
       "      <td>147.329089</td>\n",
       "      <td>147.329089</td>\n",
       "      <td>147.308155</td>\n",
       "      <td>140.725128</td>\n",
       "      <td>382.205637</td>\n",
       "      <td>2468.694589</td>\n",
       "      <td>113.782850</td>\n",
       "      <td>81.994444</td>\n",
       "      <td>704.223158</td>\n",
       "      <td>309.446624</td>\n",
       "      <td>62.226315</td>\n",
       "      <td>1525.775853</td>\n",
       "      <td>3243.843078</td>\n",
       "      <td>197.411311</td>\n",
       "      <td>656.713227</td>\n",
       "      <td>496.165533</td>\n",
       "      <td>212.578449</td>\n",
       "      <td>276.688233</td>\n",
       "    </tr>\n",
       "    <tr>\n",
       "      <th>1963</th>\n",
       "      <td>199.784916</td>\n",
       "      <td>123.441089</td>\n",
       "      <td>226.895450</td>\n",
       "      <td>1967.116537</td>\n",
       "      <td>1167.000532</td>\n",
       "      <td>1867.010351</td>\n",
       "      <td>101.901413</td>\n",
       "      <td>1535.023729</td>\n",
       "      <td>336.938102</td>\n",
       "      <td>99.858918</td>\n",
       "      <td>2020.265247</td>\n",
       "      <td>123.429341</td>\n",
       "      <td>71.106439</td>\n",
       "      <td>295.631971</td>\n",
       "      <td>78.372196</td>\n",
       "      <td>78.514621</td>\n",
       "      <td>130.175274</td>\n",
       "      <td>2374.498448</td>\n",
       "      <td>516.739524</td>\n",
       "      <td>81.917909</td>\n",
       "      <td>116.776544</td>\n",
       "      <td>655.252249</td>\n",
       "      <td>74.313643</td>\n",
       "      <td>274.314958</td>\n",
       "      <td>377.429879</td>\n",
       "      <td>157.055866</td>\n",
       "      <td>344.354657</td>\n",
       "      <td>194.212530</td>\n",
       "      <td>258.595782</td>\n",
       "      <td>165.129626</td>\n",
       "      <td>163.025364</td>\n",
       "      <td>77.093040</td>\n",
       "      <td>76.205353</td>\n",
       "      <td>368.629584</td>\n",
       "      <td>151.501704</td>\n",
       "      <td>1229.910396</td>\n",
       "      <td>296.708317</td>\n",
       "      <td>1522.319242</td>\n",
       "      <td>1744.640123</td>\n",
       "      <td>298.470446</td>\n",
       "      <td>211.039737</td>\n",
       "      <td>695.228624</td>\n",
       "      <td>280.096636</td>\n",
       "      <td>282.304071</td>\n",
       "      <td>71.962184</td>\n",
       "      <td>134.619218</td>\n",
       "      <td>1626.108169</td>\n",
       "      <td>185.048847</td>\n",
       "      <td>565.727810</td>\n",
       "      <td>170.464446</td>\n",
       "      <td>161.977441</td>\n",
       "      <td>112.882102</td>\n",
       "      <td>120.799689</td>\n",
       "      <td>115.573315</td>\n",
       "      <td>1831.705656</td>\n",
       "      <td>101.126429</td>\n",
       "      <td>852.135302</td>\n",
       "      <td>1126.019337</td>\n",
       "      <td>485.243808</td>\n",
       "      <td>724.693762</td>\n",
       "      <td>103.778721</td>\n",
       "      <td>146.314342</td>\n",
       "      <td>173.901750</td>\n",
       "      <td>419.323544</td>\n",
       "      <td>368.038953</td>\n",
       "      <td>411.190330</td>\n",
       "      <td>53.087834</td>\n",
       "      <td>153.318854</td>\n",
       "      <td>103.008770</td>\n",
       "      <td>2441.038555</td>\n",
       "      <td>138.407166</td>\n",
       "      <td>48.505428</td>\n",
       "      <td>279.717541</td>\n",
       "      <td>409.045570</td>\n",
       "      <td>154.999327</td>\n",
       "      <td>196.531281</td>\n",
       "      <td>46.861453</td>\n",
       "      <td>1328.036649</td>\n",
       "      <td>150.503659</td>\n",
       "      <td>158.716064</td>\n",
       "      <td>107.540573</td>\n",
       "      <td>3283.141453</td>\n",
       "      <td>1775.582655</td>\n",
       "      <td>1567.435637</td>\n",
       "      <td>95.703378</td>\n",
       "      <td>583.411562</td>\n",
       "      <td>115.664138</td>\n",
       "      <td>325.516339</td>\n",
       "      <td>189.746866</td>\n",
       "      <td>432.511730</td>\n",
       "      <td>1645.316470</td>\n",
       "      <td>137.050720</td>\n",
       "      <td>41.218297</td>\n",
       "      <td>322.300733</td>\n",
       "      <td>308.195264</td>\n",
       "      <td>143.620307</td>\n",
       "      <td>511.205575</td>\n",
       "      <td>589.160461</td>\n",
       "      <td>98.978580</td>\n",
       "      <td>98.978580</td>\n",
       "      <td>609.487384</td>\n",
       "      <td>117.071988</td>\n",
       "      <td>253.977446</td>\n",
       "      <td>162.805452</td>\n",
       "      <td>164.442690</td>\n",
       "      <td>164.442690</td>\n",
       "      <td>164.421810</td>\n",
       "      <td>139.309845</td>\n",
       "      <td>403.757073</td>\n",
       "      <td>2657.022505</td>\n",
       "      <td>118.143907</td>\n",
       "      <td>87.792298</td>\n",
       "      <td>760.397885</td>\n",
       "      <td>350.662985</td>\n",
       "      <td>69.173543</td>\n",
       "      <td>1613.456884</td>\n",
       "      <td>3374.515171</td>\n",
       "      <td>202.263688</td>\n",
       "      <td>584.291634</td>\n",
       "      <td>523.989741</td>\n",
       "      <td>213.896759</td>\n",
       "      <td>277.479715</td>\n",
       "    </tr>\n",
       "    <tr>\n",
       "      <th>1964</th>\n",
       "      <td>180.228774</td>\n",
       "      <td>131.852423</td>\n",
       "      <td>238.043710</td>\n",
       "      <td>2131.377948</td>\n",
       "      <td>1269.412583</td>\n",
       "      <td>1994.440497</td>\n",
       "      <td>100.221104</td>\n",
       "      <td>1701.846276</td>\n",
       "      <td>351.161126</td>\n",
       "      <td>104.339929</td>\n",
       "      <td>2199.727007</td>\n",
       "      <td>136.312362</td>\n",
       "      <td>75.955918</td>\n",
       "      <td>258.605371</td>\n",
       "      <td>80.472718</td>\n",
       "      <td>86.161550</td>\n",
       "      <td>137.629764</td>\n",
       "      <td>2555.111146</td>\n",
       "      <td>547.950527</td>\n",
       "      <td>88.290116</td>\n",
       "      <td>120.820655</td>\n",
       "      <td>678.128106</td>\n",
       "      <td>85.498555</td>\n",
       "      <td>328.655032</td>\n",
       "      <td>170.467005</td>\n",
       "      <td>165.009166</td>\n",
       "      <td>352.336885</td>\n",
       "      <td>226.227042</td>\n",
       "      <td>272.974800</td>\n",
       "      <td>184.658198</td>\n",
       "      <td>182.711553</td>\n",
       "      <td>86.832329</td>\n",
       "      <td>85.839771</td>\n",
       "      <td>440.560234</td>\n",
       "      <td>177.966916</td>\n",
       "      <td>1355.645823</td>\n",
       "      <td>310.812277</td>\n",
       "      <td>1707.503938</td>\n",
       "      <td>1909.541620</td>\n",
       "      <td>410.904083</td>\n",
       "      <td>230.061710</td>\n",
       "      <td>783.705881</td>\n",
       "      <td>279.930465</td>\n",
       "      <td>305.366399</td>\n",
       "      <td>77.862597</td>\n",
       "      <td>117.340784</td>\n",
       "      <td>1753.352587</td>\n",
       "      <td>200.434728</td>\n",
       "      <td>629.591526</td>\n",
       "      <td>188.627236</td>\n",
       "      <td>175.609455</td>\n",
       "      <td>120.137816</td>\n",
       "      <td>108.334969</td>\n",
       "      <td>110.041472</td>\n",
       "      <td>2297.920643</td>\n",
       "      <td>115.537496</td>\n",
       "      <td>965.135423</td>\n",
       "      <td>1222.544540</td>\n",
       "      <td>518.813872</td>\n",
       "      <td>843.616879</td>\n",
       "      <td>108.293688</td>\n",
       "      <td>123.603495</td>\n",
       "      <td>186.746412</td>\n",
       "      <td>452.492302</td>\n",
       "      <td>410.662872</td>\n",
       "      <td>443.654715</td>\n",
       "      <td>57.470051</td>\n",
       "      <td>167.819829</td>\n",
       "      <td>113.009333</td>\n",
       "      <td>2755.633117</td>\n",
       "      <td>142.659340</td>\n",
       "      <td>48.293285</td>\n",
       "      <td>289.009228</td>\n",
       "      <td>469.476137</td>\n",
       "      <td>172.429419</td>\n",
       "      <td>201.261978</td>\n",
       "      <td>46.003404</td>\n",
       "      <td>1541.947365</td>\n",
       "      <td>170.434841</td>\n",
       "      <td>153.259717</td>\n",
       "      <td>113.168717</td>\n",
       "      <td>3480.426945</td>\n",
       "      <td>1937.884614</td>\n",
       "      <td>1690.114486</td>\n",
       "      <td>104.880218</td>\n",
       "      <td>608.100485</td>\n",
       "      <td>125.425000</td>\n",
       "      <td>382.743965</td>\n",
       "      <td>198.732570</td>\n",
       "      <td>468.781082</td>\n",
       "      <td>1774.400198</td>\n",
       "      <td>124.668973</td>\n",
       "      <td>41.083879</td>\n",
       "      <td>332.081155</td>\n",
       "      <td>332.305003</td>\n",
       "      <td>150.748971</td>\n",
       "      <td>485.533858</td>\n",
       "      <td>632.716104</td>\n",
       "      <td>110.874644</td>\n",
       "      <td>110.874644</td>\n",
       "      <td>675.241639</td>\n",
       "      <td>120.714348</td>\n",
       "      <td>268.718051</td>\n",
       "      <td>173.387342</td>\n",
       "      <td>157.589645</td>\n",
       "      <td>157.589645</td>\n",
       "      <td>157.561905</td>\n",
       "      <td>139.223404</td>\n",
       "      <td>419.649855</td>\n",
       "      <td>2941.048899</td>\n",
       "      <td>125.938694</td>\n",
       "      <td>99.937889</td>\n",
       "      <td>788.696647</td>\n",
       "      <td>369.583469</td>\n",
       "      <td>76.311486</td>\n",
       "      <td>1748.288118</td>\n",
       "      <td>3573.941185</td>\n",
       "      <td>226.875185</td>\n",
       "      <td>741.244998</td>\n",
       "      <td>562.186364</td>\n",
       "      <td>242.384473</td>\n",
       "      <td>281.558896</td>\n",
       "    </tr>\n",
       "  </tbody>\n",
       "</table>\n",
       "</div>"
      ],
      "text/plain": [
       "      Africa Eastern and Southern  Africa Western and Central     Algeria  \\\n",
       "Year                                                                        \n",
       "1960                   162.726325                  107.930722  246.303751   \n",
       "1961                   162.555968                  113.080062  214.771980   \n",
       "1962                   172.271022                  118.829461  172.242509   \n",
       "1963                   199.784916                  123.441089  226.895450   \n",
       "1964                   180.228774                  131.852423  238.043710   \n",
       "\n",
       "        Australia      Austria  Bahamas, The  Bangladesh      Belgium  \\\n",
       "Year                                                                    \n",
       "1960  1810.619230   935.460427   1550.267699   89.035239  1273.691659   \n",
       "1961  1877.616638  1031.815004   1651.317673   97.595292  1350.197673   \n",
       "1962  1854.656834  1087.834243   1752.840006  100.122130  1438.523233   \n",
       "1963  1967.116537  1167.000532   1867.010351  101.901413  1535.023729   \n",
       "1964  2131.377948  1269.412583   1994.440497  100.221104  1701.846276   \n",
       "\n",
       "          Belize       Benin      Bermuda     Bolivia   Botswana      Brazil  \\\n",
       "Year                                                                           \n",
       "1960  304.903860   93.022700  1902.402119  102.237722  60.493958  235.946883   \n",
       "1961  316.413629   95.572232  1961.538169  109.061304  64.176140  232.480546   \n",
       "1962  327.099997   94.464497  2020.385965  116.924968  68.050349  251.348317   \n",
       "1963  336.938102   99.858918  2020.265247  123.429341  71.106439  295.631971   \n",
       "1964  351.161126  104.339929  2199.727007  136.312362  75.955918  258.605371   \n",
       "\n",
       "      Burkina Faso    Burundi    Cameroon       Canada  \\\n",
       "Year                                                     \n",
       "1960     68.424734  70.051910  118.643145  2259.294285   \n",
       "1961     71.558180  71.167188  123.514808  2240.433039   \n",
       "1962     76.520549  73.435331  128.594637  2268.585346   \n",
       "1963     78.372196  78.514621  130.175274  2374.498448   \n",
       "1964     80.472718  86.161550  137.629764  2555.111146   \n",
       "\n",
       "      Caribbean small states  Central African Republic        Chad  \\\n",
       "Year                                                                 \n",
       "1960              448.256417                 74.687347  104.471719   \n",
       "1961              476.901484                 80.688064  109.129251   \n",
       "1962              494.736372                 80.212712  114.581807   \n",
       "1963              516.739524                 81.917909  116.776544   \n",
       "1964              547.950527                 88.290116  120.820655   \n",
       "\n",
       "           Chile      China    Colombia  Congo, Dem. Rep.  Congo, Rep.  \\\n",
       "Year                                                                     \n",
       "1960  505.349325  89.520542  251.041523        220.313990   129.370336   \n",
       "1961  555.134403  75.805838  274.052264        197.391359   145.405979   \n",
       "1962  638.945360  70.909412  289.917946        235.633524   155.738527   \n",
       "1963  655.252249  74.313643  274.314958        377.429879   157.055866   \n",
       "1964  678.128106  85.498555  328.655032        170.467005   165.009166   \n",
       "\n",
       "      Costa Rica  Cote d'Ivoire  Dominican Republic  \\\n",
       "Year                                                  \n",
       "1960  381.363682     155.899633          204.114871   \n",
       "1961  355.002749     170.243050          192.027613   \n",
       "1962  334.309249     171.128640          234.051629   \n",
       "1963  344.354657     194.212530          258.595782   \n",
       "1964  352.336885     226.227042          272.974800   \n",
       "\n",
       "      Early-demographic dividend  East Asia & Pacific  \\\n",
       "Year                                                    \n",
       "1960                  161.165351           148.423623   \n",
       "1961                  158.406567           148.655534   \n",
       "1962                  159.405809           149.662986   \n",
       "1963                  165.129626           163.025364   \n",
       "1964                  184.658198           182.711553   \n",
       "\n",
       "      East Asia & Pacific (IDA & IBRD countries)  \\\n",
       "Year                                               \n",
       "1960                                   91.941143   \n",
       "1961                                   80.999525   \n",
       "1962                                   72.997084   \n",
       "1963                                   77.093040   \n",
       "1964                                   86.832329   \n",
       "\n",
       "      East Asia & Pacific (excluding high income)     Ecuador    Eswatini  \\\n",
       "Year                                                                        \n",
       "1960                                    90.902092  455.462389  104.214056   \n",
       "1961                                    80.061756  375.221305  125.311492   \n",
       "1962                                    72.147882  315.688704  131.162090   \n",
       "1963                                    76.205353  368.629584  151.501704   \n",
       "1964                                    85.839771  440.560234  177.966916   \n",
       "\n",
       "        Euro area        Fiji      Finland       France       Gabon  \\\n",
       "Year                                                                  \n",
       "1960   923.187341  285.474286  1179.353011  1334.689512  282.417179   \n",
       "1961  1005.022273  287.267056  1327.427224  1428.046001  331.435802   \n",
       "1962  1106.286139  291.473334  1411.702398  1578.284538  357.523762   \n",
       "1963  1229.910396  296.708317  1522.319242  1744.640123  298.470446   \n",
       "1964  1355.645823  310.812277  1707.503938  1909.541620  410.904083   \n",
       "\n",
       "           Ghana      Greece   Guatemala      Guyana      Haiti  \\\n",
       "Year                                                              \n",
       "1960  183.428007  520.322744  252.756171  297.676423  70.661085   \n",
       "1961  190.196504  590.780055  253.227290  315.385460  68.764339   \n",
       "1962  195.469399  617.057758  261.179134  321.545237  70.138046   \n",
       "1963  211.039737  695.228624  280.096636  282.304071  71.962184   \n",
       "1964  230.061710  783.705881  279.930465  305.366399  77.862597   \n",
       "\n",
       "      Heavily indebted poor countries (HIPC)  High income    Honduras  \\\n",
       "Year                                                                    \n",
       "1960                              107.339918  1372.007466  164.644399   \n",
       "1961                              107.567308  1434.115616  169.909755   \n",
       "1962                              114.311615  1528.486014  179.876306   \n",
       "1963                              134.619218  1626.108169  185.048847   \n",
       "1964                              117.340784  1753.352587  200.434728   \n",
       "\n",
       "      Hong Kong SAR, China   IBRD only  IDA & IBRD total   IDA blend  \\\n",
       "Year                                                                   \n",
       "1960            429.442874  170.450504        158.125407  100.203175   \n",
       "1961            436.754412  161.381511        151.426256  104.729950   \n",
       "1962            487.821134  162.570762        153.512452  109.320378   \n",
       "1963            565.727810  170.464446        161.977441  112.882102   \n",
       "1964            629.591526  188.627236        175.609455  120.137816   \n",
       "\n",
       "        IDA only   IDA total      Iceland       India     Ireland  \\\n",
       "Year                                                                \n",
       "1960   98.852757   97.209556  1414.982269   82.188603  685.614712   \n",
       "1961  101.138803  100.220538  1418.125870   85.354301  739.276406   \n",
       "1962  106.812745  105.407725  1562.230730   89.881756  797.006288   \n",
       "1963  120.799689  115.573315  1831.705656  101.126429  852.135302   \n",
       "1964  108.334969  110.041472  2297.920643  115.537496  965.135423   \n",
       "\n",
       "            Italy     Jamaica       Japan       Kenya  Korea, Rep.  \\\n",
       "Year                                                                 \n",
       "1960   804.492623  429.254146  475.319076   97.445501   158.249303   \n",
       "1961   887.336745  453.057834  568.907743   94.651293    93.828649   \n",
       "1962   990.260152  463.890513  639.640785  100.394495   106.148506   \n",
       "1963  1126.019337  485.243808  724.693762  103.778721   146.314342   \n",
       "1964  1222.544540  518.813872  843.616879  108.293688   123.603495   \n",
       "\n",
       "      Late-demographic dividend  Latin America & Caribbean  \\\n",
       "Year                                                         \n",
       "1960                 174.920811                 384.416612   \n",
       "1961                 161.725951                 396.456378   \n",
       "1962                 162.578170                 422.653940   \n",
       "1963                 173.901750                 419.323544   \n",
       "1964                 186.746412                 452.492302   \n",
       "\n",
       "      Latin America & Caribbean (excluding high income)  \\\n",
       "Year                                                      \n",
       "1960                                         348.669269   \n",
       "1961                                         355.117662   \n",
       "1962                                         375.557190   \n",
       "1963                                         368.038953   \n",
       "1964                                         410.662872   \n",
       "\n",
       "      Latin America & the Caribbean (IDA & IBRD countries)    Lesotho  \\\n",
       "Year                                                                    \n",
       "1960                                         379.000405     41.300365   \n",
       "1961                                         390.205816     41.856749   \n",
       "1962                                         415.532998     48.162032   \n",
       "1963                                         411.190330     53.087834   \n",
       "1964                                         443.654715     57.470051   \n",
       "\n",
       "      Low & middle income  Lower middle income   Luxembourg  Madagascar  \\\n",
       "Year                                                                      \n",
       "1960           151.695442            92.099219  2242.015817  131.993165   \n",
       "1961           144.055238            95.349598  2222.366366  133.847761   \n",
       "1962           145.133716            94.689203  2311.798849  138.120004   \n",
       "1963           153.318854           103.008770  2441.038555  138.407166   \n",
       "1964           167.819829           113.009333  2755.633117  142.659340   \n",
       "\n",
       "         Malawi    Malaysia      Mexico  Middle income     Morocco      Nepal  \\\n",
       "Year                                                                            \n",
       "1960  44.523943  234.938897  345.230541     155.609666  164.800827  50.304938   \n",
       "1961  46.581585  225.933594  363.393271     147.503903  158.923584  51.811249   \n",
       "1962  47.698384  230.260594  378.153495     147.984713  181.182648  55.025689   \n",
       "1963  48.505428  279.717541  409.045570     154.999327  196.531281  46.861453   \n",
       "1964  48.293285  289.009228  469.476137     172.429419  201.261978  46.003404   \n",
       "\n",
       "      Netherlands   Nicaragua       Niger     Nigeria  North America  \\\n",
       "Year                                                                   \n",
       "1960  1068.784587  126.248168  132.651771   92.960466    2939.448335   \n",
       "1961  1159.392357  131.450653  139.340323   96.979030    2991.592897   \n",
       "1962  1240.677894  140.557346  148.189160  104.387029    3155.097538   \n",
       "1963  1328.036649  150.503659  158.716064  107.540573    3283.141453   \n",
       "1964  1541.947365  170.434841  153.259717  113.168717    3480.426945   \n",
       "\n",
       "           Norway  OECD members    Pakistan      Panama  Papua New Guinea  \\\n",
       "Year                                                                        \n",
       "1960  1441.755660   1335.424217   83.337946  474.090670        102.176659   \n",
       "1961  1560.324931   1384.981170   89.409034  513.251679        106.585325   \n",
       "1962  1667.247430   1474.283507   91.319185  542.328186        111.600465   \n",
       "1963  1775.582655   1567.435637   95.703378  583.411562        115.664138   \n",
       "1964  1937.884614   1690.114486  104.880218  608.100485        125.425000   \n",
       "\n",
       "            Peru  Philippines    Portugal  Post-demographic dividend  \\\n",
       "Year                                                                   \n",
       "1960  253.264921   286.104330  360.499299                1387.393967   \n",
       "1961  277.568763   300.842042  382.729947                1449.261704   \n",
       "1962  305.761617   176.460035  407.852844                1545.755736   \n",
       "1963  325.516339   189.746866  432.511730                1645.316470   \n",
       "1964  382.743965   198.732570  468.781082                1774.400198   \n",
       "\n",
       "      Pre-demographic dividend     Rwanda     Senegal  Seychelles  \\\n",
       "Year                                                                \n",
       "1960                111.590036  40.537211  312.992963  288.057842   \n",
       "1961                112.796793  40.689268  321.361240  270.279363   \n",
       "1962                120.383382  40.944182  320.501539  287.044788   \n",
       "1963                137.050720  41.218297  322.300733  308.195264   \n",
       "1964                124.668973  41.083879  332.081155  332.305003   \n",
       "\n",
       "      Sierra Leone   Singapore  South Africa  South Asia  \\\n",
       "Year                                                       \n",
       "1960    138.938640  428.058980    511.618737   82.345399   \n",
       "1961    139.363570  449.151071    526.461750   86.046083   \n",
       "1962    143.472648  472.085824    546.261935   89.911328   \n",
       "1963    143.620307  511.205575    589.160461   98.978580   \n",
       "1964    150.748971  485.533858    632.716104  110.874644   \n",
       "\n",
       "      South Asia (IDA & IBRD)       Spain   Sri Lanka  St. Kitts and Nevis  \\\n",
       "Year                                                                         \n",
       "1960                82.345399  396.392253  142.779622           241.539163   \n",
       "1961                86.046083  450.053289  142.838142           243.832122   \n",
       "1962                89.911328  520.206131  138.536654           246.101178   \n",
       "1963                98.978580  609.487384  117.071988           253.977446   \n",
       "1964               110.874644  675.241639  120.714348           268.718051   \n",
       "\n",
       "      St. Vincent and the Grenadines  Sub-Saharan Africa  \\\n",
       "Year                                                       \n",
       "1960                      161.375297          137.161909   \n",
       "1961                      170.381211          139.415203   \n",
       "1962                      174.496077          147.329089   \n",
       "1963                      162.805452          164.442690   \n",
       "1964                      173.387342          157.589645   \n",
       "\n",
       "      Sub-Saharan Africa (IDA & IBRD countries)  \\\n",
       "Year                                              \n",
       "1960                                 137.161909   \n",
       "1961                                 139.415203   \n",
       "1962                                 147.329089   \n",
       "1963                                 164.442690   \n",
       "1964                                 157.589645   \n",
       "\n",
       "      Sub-Saharan Africa (excluding high income)       Sudan    Suriname  \\\n",
       "Year                                                                       \n",
       "1960                                  137.138334  125.859840  346.163199   \n",
       "1961                                  139.395763  133.082245  363.958326   \n",
       "1962                                  147.308155  140.725128  382.205637   \n",
       "1963                                  164.421810  139.309845  403.757073   \n",
       "1964                                  157.561905  139.223404  419.649855   \n",
       "\n",
       "           Sweden    Thailand       Togo  Trinidad and Tobago     Turkiye  \\\n",
       "Year                                                                        \n",
       "1960  2114.002973  100.767475  76.638697           631.706585  509.005545   \n",
       "1961  2288.921701  107.498001  79.120282           676.401178  283.828284   \n",
       "1962  2468.694589  113.782850  81.994444           704.223158  309.446624   \n",
       "1963  2657.022505  118.143907  87.792298           760.397885  350.662985   \n",
       "1964  2941.048899  125.938694  99.937889           788.696647  369.583469   \n",
       "\n",
       "         Uganda  United Kingdom  United States  Upper middle income  \\\n",
       "Year                                                                  \n",
       "1960  62.509625     1397.594803    3007.123445           216.951075   \n",
       "1961  63.220967     1472.385714    3066.562869           195.205255   \n",
       "1962  62.226315     1525.775853    3243.843078           197.411311   \n",
       "1963  69.173543     1613.456884    3374.515171           202.263688   \n",
       "1964  76.311486     1748.288118    3573.941185           226.875185   \n",
       "\n",
       "         Uruguay       World      Zambia    Zimbabwe  \n",
       "Year                                                  \n",
       "1960  489.350725  459.096735  232.188564  278.813847  \n",
       "1961  601.703003  471.544201  220.042067  280.828663  \n",
       "1962  656.713227  496.165533  212.578449  276.688233  \n",
       "1963  584.291634  523.989741  213.896759  277.479715  \n",
       "1964  741.244998  562.186364  242.384473  281.558896  "
      ]
     },
     "execution_count": 44,
     "metadata": {},
     "output_type": "execute_result"
    }
   ],
   "source": [
    "gdp.head()"
   ]
  },
  {
   "cell_type": "code",
   "execution_count": 45,
   "id": "6e8094ea",
   "metadata": {},
   "outputs": [],
   "source": [
    "gdpPct = gdp.pct_change()\n",
    "gdpPct = gdpPct.dropna()"
   ]
  },
  {
   "cell_type": "code",
   "execution_count": 182,
   "id": "c916183e",
   "metadata": {},
   "outputs": [],
   "source": [
    "countries = [\n",
    "#              'Africa Eastern and Southern',  \n",
    "#              'Africa Western and Central', \n",
    "#              'Caribbean small states',\n",
    "#              'East Asia & Pacific', \n",
    "#              'Heavily indebted poor countries (HIPC)', \n",
    "#              'Latin America & Caribbean', \n",
    "#              'North America', \n",
    "             'United States',\n",
    "             'China',\n",
    "#              'World'\n",
    "]\n",
    "gdpSubset = gdp[countries]\n",
    "gdpPctSubset = gdpPct[countries]"
   ]
  },
  {
   "cell_type": "code",
   "execution_count": 183,
   "id": "2c0b83fc",
   "metadata": {},
   "outputs": [
    {
     "data": {
      "image/png": "[encoded data removed]",
      "text/plain": [
       "<Figure size 1152x576 with 1 Axes>"
      ]
     },
     "metadata": {
      "needs_background": "light"
     },
     "output_type": "display_data"
    },
    {
     "data": {
      "image/png": "[encoded data removed]",
      "text/plain": [
       "<Figure size 1152x576 with 1 Axes>"
      ]
     },
     "metadata": {
      "needs_background": "light"
     },
     "output_type": "display_data"
    }
   ],
   "source": [
    "figure(figsize= (16,8))\n",
    "sns.lineplot(data= gdpSubset)\n",
    "plt.title('GDP Per Capita')\n",
    "plt.show()\n",
    "\n",
    "figure(figsize= (16,8))\n",
    "sns.lineplot(data= gdpPctSubset)\n",
    "plt.title('GDP Per Capita Pct Change')\n",
    "plt.show()"
   ]
  },
  {
   "cell_type": "code",
   "execution_count": 184,
   "id": "cef0cd95",
   "metadata": {},
   "outputs": [],
   "source": [
    "window_size = 12\n",
    "stride = 1\n",
    "df = gdpPctSubset\n",
    "X = df\n",
    "y = df.index\n",
    "SW = SlidingWindow(size=window_size, stride=stride)\n",
    "X_sw, yr = SW.fit_transform_resample(X, y)"
   ]
  },
  {
   "cell_type": "code",
   "execution_count": 185,
   "id": "f10bdfa6",
   "metadata": {},
   "outputs": [
    {
     "data": {
      "application/vnd.plotly.v1+json": {
       "config": {
        "plotlyServerURL": "https://plot.ly"
       },
       "data": [
        {
         "hoverinfo": "none",
         "line": {
          "color": "black",
          "dash": "dash",
          "width": 1
         },
         "mode": "lines",
         "showlegend": false,
         "type": "scatter",
         "x": [
          -0.0018232394754886627,
          0.0929852132499218
         ],
         "y": [
          -0.0018232394754886627,
          0.0929852132499218
         ]
        },
        {
         "hoverinfo": "text",
         "hovertext": [
          "(0.0, 0.0058665466494858265)",
          "(0.0, 0.010134648531675339)",
          "(0.0, 0.018325814977288246)",
          "(0.0, 0.026366621255874634)",
          "(0.0, 0.02958977036178112)",
          "(0.0, 0.03561827912926674)",
          "(0.0, 0.044782958924770355)",
          "(0.0, 0.05781744793057442)",
          "(0.0, 0.06446035206317902)",
          "(0.0, 0.06508360058069229)",
          "(0.0, 0.09116197377443314)"
         ],
         "mode": "markers",
         "name": "H0",
         "type": "scatter",
         "x": [
          0,
          0,
          0,
          0,
          0,
          0,
          0,
          0,
          0,
          0,
          0
         ],
         "y": [
          0.0058665466494858265,
          0.010134648531675339,
          0.018325814977288246,
          0.026366621255874634,
          0.02958977036178112,
          0.03561827912926674,
          0.044782958924770355,
          0.05781744793057442,
          0.06446035206317902,
          0.06508360058069229,
          0.09116197377443314
         ]
        },
        {
         "hoverinfo": "text",
         "hovertext": [],
         "mode": "markers",
         "name": "H1",
         "type": "scatter",
         "x": [],
         "y": []
        }
       ],
       "layout": {
        "height": 500,
        "plot_bgcolor": "white",
        "template": {
         "data": {
          "bar": [
           {
            "error_x": {
             "color": "#2a3f5f"
            },
            "error_y": {
             "color": "#2a3f5f"
            },
            "marker": {
             "line": {
              "color": "#E5ECF6",
              "width": 0.5
             },
             "pattern": {
              "fillmode": "overlay",
              "size": 10,
              "solidity": 0.2
             }
            },
            "type": "bar"
           }
          ],
          "barpolar": [
           {
            "marker": {
             "line": {
              "color": "#E5ECF6",
              "width": 0.5
             },
             "pattern": {
              "fillmode": "overlay",
              "size": 10,
              "solidity": 0.2
             }
            },
            "type": "barpolar"
           }
          ],
          "carpet": [
           {
            "aaxis": {
             "endlinecolor": "#2a3f5f",
             "gridcolor": "white",
             "linecolor": "white",
             "minorgridcolor": "white",
             "startlinecolor": "#2a3f5f"
            },
            "baxis": {
             "endlinecolor": "#2a3f5f",
             "gridcolor": "white",
             "linecolor": "white",
             "minorgridcolor": "white",
             "startlinecolor": "#2a3f5f"
            },
            "type": "carpet"
           }
          ],
          "choropleth": [
           {
            "colorbar": {
             "outlinewidth": 0,
             "ticks": ""
            },
            "type": "choropleth"
           }
          ],
          "contour": [
           {
            "colorbar": {
             "outlinewidth": 0,
             "ticks": ""
            },
            "colorscale": [
             [
              0,
              "#0d0887"
             ],
             [
              0.1111111111111111,
              "#46039f"
             ],
             [
              0.2222222222222222,
              "#7201a8"
             ],
             [
              0.3333333333333333,
              "#9c179e"
             ],
             [
              0.4444444444444444,
              "#bd3786"
             ],
             [
              0.5555555555555556,
              "#d8576b"
             ],
             [
              0.6666666666666666,
              "#ed7953"
             ],
             [
              0.7777777777777778,
              "#fb9f3a"
             ],
             [
              0.8888888888888888,
              "#fdca26"
             ],
             [
              1,
              "#f0f921"
             ]
            ],
            "type": "contour"
           }
          ],
          "contourcarpet": [
           {
            "colorbar": {
             "outlinewidth": 0,
             "ticks": ""
            },
            "type": "contourcarpet"
           }
          ],
          "heatmap": [
           {
            "colorbar": {
             "outlinewidth": 0,
             "ticks": ""
            },
            "colorscale": [
             [
              0,
              "#0d0887"
             ],
             [
              0.1111111111111111,
              "#46039f"
             ],
             [
              0.2222222222222222,
              "#7201a8"
             ],
             [
              0.3333333333333333,
              "#9c179e"
             ],
             [
              0.4444444444444444,
              "#bd3786"
             ],
             [
              0.5555555555555556,
              "#d8576b"
             ],
             [
              0.6666666666666666,
              "#ed7953"
             ],
             [
              0.7777777777777778,
              "#fb9f3a"
             ],
             [
              0.8888888888888888,
              "#fdca26"
             ],
             [
              1,
              "#f0f921"
             ]
            ],
            "type": "heatmap"
           }
          ],
          "heatmapgl": [
           {
            "colorbar": {
             "outlinewidth": 0,
             "ticks": ""
            },
            "colorscale": [
             [
              0,
              "#0d0887"
             ],
             [
              0.1111111111111111,
              "#46039f"
             ],
             [
              0.2222222222222222,
              "#7201a8"
             ],
             [
              0.3333333333333333,
              "#9c179e"
             ],
             [
              0.4444444444444444,
              "#bd3786"
             ],
             [
              0.5555555555555556,
              "#d8576b"
             ],
             [
              0.6666666666666666,
              "#ed7953"
             ],
             [
              0.7777777777777778,
              "#fb9f3a"
             ],
             [
              0.8888888888888888,
              "#fdca26"
             ],
             [
              1,
              "#f0f921"
             ]
            ],
            "type": "heatmapgl"
           }
          ],
          "histogram": [
           {
            "marker": {
             "pattern": {
              "fillmode": "overlay",
              "size": 10,
              "solidity": 0.2
             }
            },
            "type": "histogram"
           }
          ],
          "histogram2d": [
           {
            "colorbar": {
             "outlinewidth": 0,
             "ticks": ""
            },
            "colorscale": [
             [
              0,
              "#0d0887"
             ],
             [
              0.1111111111111111,
              "#46039f"
             ],
             [
              0.2222222222222222,
              "#7201a8"
             ],
             [
              0.3333333333333333,
              "#9c179e"
             ],
             [
              0.4444444444444444,
              "#bd3786"
             ],
             [
              0.5555555555555556,
              "#d8576b"
             ],
             [
              0.6666666666666666,
              "#ed7953"
             ],
             [
              0.7777777777777778,
              "#fb9f3a"
             ],
             [
              0.8888888888888888,
              "#fdca26"
             ],
             [
              1,
              "#f0f921"
             ]
            ],
            "type": "histogram2d"
           }
          ],
          "histogram2dcontour": [
           {
            "colorbar": {
             "outlinewidth": 0,
             "ticks": ""
            },
            "colorscale": [
             [
              0,
              "#0d0887"
             ],
             [
              0.1111111111111111,
              "#46039f"
             ],
             [
              0.2222222222222222,
              "#7201a8"
             ],
             [
              0.3333333333333333,
              "#9c179e"
             ],
             [
              0.4444444444444444,
              "#bd3786"
             ],
             [
              0.5555555555555556,
              "#d8576b"
             ],
             [
              0.6666666666666666,
              "#ed7953"
             ],
             [
              0.7777777777777778,
              "#fb9f3a"
             ],
             [
              0.8888888888888888,
              "#fdca26"
             ],
             [
              1,
              "#f0f921"
             ]
            ],
            "type": "histogram2dcontour"
           }
          ],
          "mesh3d": [
           {
            "colorbar": {
             "outlinewidth": 0,
             "ticks": ""
            },
            "type": "mesh3d"
           }
          ],
          "parcoords": [
           {
            "line": {
             "colorbar": {
              "outlinewidth": 0,
              "ticks": ""
             }
            },
            "type": "parcoords"
           }
          ],
          "pie": [
           {
            "automargin": true,
            "type": "pie"
           }
          ],
          "scatter": [
           {
            "fillpattern": {
             "fillmode": "overlay",
             "size": 10,
             "solidity": 0.2
            },
            "type": "scatter"
           }
          ],
          "scatter3d": [
           {
            "line": {
             "colorbar": {
              "outlinewidth": 0,
              "ticks": ""
             }
            },
            "marker": {
             "colorbar": {
              "outlinewidth": 0,
              "ticks": ""
             }
            },
            "type": "scatter3d"
           }
          ],
          "scattercarpet": [
           {
            "marker": {
             "colorbar": {
              "outlinewidth": 0,
              "ticks": ""
             }
            },
            "type": "scattercarpet"
           }
          ],
          "scattergeo": [
           {
            "marker": {
             "colorbar": {
              "outlinewidth": 0,
              "ticks": ""
             }
            },
            "type": "scattergeo"
           }
          ],
          "scattergl": [
           {
            "marker": {
             "colorbar": {
              "outlinewidth": 0,
              "ticks": ""
             }
            },
            "type": "scattergl"
           }
          ],
          "scattermapbox": [
           {
            "marker": {
             "colorbar": {
              "outlinewidth": 0,
              "ticks": ""
             }
            },
            "type": "scattermapbox"
           }
          ],
          "scatterpolar": [
           {
            "marker": {
             "colorbar": {
              "outlinewidth": 0,
              "ticks": ""
             }
            },
            "type": "scatterpolar"
           }
          ],
          "scatterpolargl": [
           {
            "marker": {
             "colorbar": {
              "outlinewidth": 0,
              "ticks": ""
             }
            },
            "type": "scatterpolargl"
           }
          ],
          "scatterternary": [
           {
            "marker": {
             "colorbar": {
              "outlinewidth": 0,
              "ticks": ""
             }
            },
            "type": "scatterternary"
           }
          ],
          "surface": [
           {
            "colorbar": {
             "outlinewidth": 0,
             "ticks": ""
            },
            "colorscale": [
             [
              0,
              "#0d0887"
             ],
             [
              0.1111111111111111,
              "#46039f"
             ],
             [
              0.2222222222222222,
              "#7201a8"
             ],
             [
              0.3333333333333333,
              "#9c179e"
             ],
             [
              0.4444444444444444,
              "#bd3786"
             ],
             [
              0.5555555555555556,
              "#d8576b"
             ],
             [
              0.6666666666666666,
              "#ed7953"
             ],
             [
              0.7777777777777778,
              "#fb9f3a"
             ],
             [
              0.8888888888888888,
              "#fdca26"
             ],
             [
              1,
              "#f0f921"
             ]
            ],
            "type": "surface"
           }
          ],
          "table": [
           {
            "cells": {
             "fill": {
              "color": "#EBF0F8"
             },
             "line": {
              "color": "white"
             }
            },
            "header": {
             "fill": {
              "color": "#C8D4E3"
             },
             "line": {
              "color": "white"
             }
            },
            "type": "table"
           }
          ]
         },
         "layout": {
          "annotationdefaults": {
           "arrowcolor": "#2a3f5f",
           "arrowhead": 0,
           "arrowwidth": 1
          },
          "autotypenumbers": "strict",
          "coloraxis": {
           "colorbar": {
            "outlinewidth": 0,
            "ticks": ""
           }
          },
          "colorscale": {
           "diverging": [
            [
             0,
             "#8e0152"
            ],
            [
             0.1,
             "#c51b7d"
            ],
            [
             0.2,
             "#de77ae"
            ],
            [
             0.3,
             "#f1b6da"
            ],
            [
             0.4,
             "#fde0ef"
            ],
            [
             0.5,
             "#f7f7f7"
            ],
            [
             0.6,
             "#e6f5d0"
            ],
            [
             0.7,
             "#b8e186"
            ],
            [
             0.8,
             "#7fbc41"
            ],
            [
             0.9,
             "#4d9221"
            ],
            [
             1,
             "#276419"
            ]
           ],
           "sequential": [
            [
             0,
             "#0d0887"
            ],
            [
             0.1111111111111111,
             "#46039f"
            ],
            [
             0.2222222222222222,
             "#7201a8"
            ],
            [
             0.3333333333333333,
             "#9c179e"
            ],
            [
             0.4444444444444444,
             "#bd3786"
            ],
            [
             0.5555555555555556,
             "#d8576b"
            ],
            [
             0.6666666666666666,
             "#ed7953"
            ],
            [
             0.7777777777777778,
             "#fb9f3a"
            ],
            [
             0.8888888888888888,
             "#fdca26"
            ],
            [
             1,
             "#f0f921"
            ]
           ],
           "sequentialminus": [
            [
             0,
             "#0d0887"
            ],
            [
             0.1111111111111111,
             "#46039f"
            ],
            [
             0.2222222222222222,
             "#7201a8"
            ],
            [
             0.3333333333333333,
             "#9c179e"
            ],
            [
             0.4444444444444444,
             "#bd3786"
            ],
            [
             0.5555555555555556,
             "#d8576b"
            ],
            [
             0.6666666666666666,
             "#ed7953"
            ],
            [
             0.7777777777777778,
             "#fb9f3a"
            ],
            [
             0.8888888888888888,
             "#fdca26"
            ],
            [
             1,
             "#f0f921"
            ]
           ]
          },
          "colorway": [
           "#636efa",
           "#EF553B",
           "#00cc96",
           "#ab63fa",
           "#FFA15A",
           "#19d3f3",
           "#FF6692",
           "#B6E880",
           "#FF97FF",
           "#FECB52"
          ],
          "font": {
           "color": "#2a3f5f"
          },
          "geo": {
           "bgcolor": "white",
           "lakecolor": "white",
           "landcolor": "#E5ECF6",
           "showlakes": true,
           "showland": true,
           "subunitcolor": "white"
          },
          "hoverlabel": {
           "align": "left"
          },
          "hovermode": "closest",
          "mapbox": {
           "style": "light"
          },
          "paper_bgcolor": "white",
          "plot_bgcolor": "#E5ECF6",
          "polar": {
           "angularaxis": {
            "gridcolor": "white",
            "linecolor": "white",
            "ticks": ""
           },
           "bgcolor": "#E5ECF6",
           "radialaxis": {
            "gridcolor": "white",
            "linecolor": "white",
            "ticks": ""
           }
          },
          "scene": {
           "xaxis": {
            "backgroundcolor": "#E5ECF6",
            "gridcolor": "white",
            "gridwidth": 2,
            "linecolor": "white",
            "showbackground": true,
            "ticks": "",
            "zerolinecolor": "white"
           },
           "yaxis": {
            "backgroundcolor": "#E5ECF6",
            "gridcolor": "white",
            "gridwidth": 2,
            "linecolor": "white",
            "showbackground": true,
            "ticks": "",
            "zerolinecolor": "white"
           },
           "zaxis": {
            "backgroundcolor": "#E5ECF6",
            "gridcolor": "white",
            "gridwidth": 2,
            "linecolor": "white",
            "showbackground": true,
            "ticks": "",
            "zerolinecolor": "white"
           }
          },
          "shapedefaults": {
           "line": {
            "color": "#2a3f5f"
           }
          },
          "ternary": {
           "aaxis": {
            "gridcolor": "white",
            "linecolor": "white",
            "ticks": ""
           },
           "baxis": {
            "gridcolor": "white",
            "linecolor": "white",
            "ticks": ""
           },
           "bgcolor": "#E5ECF6",
           "caxis": {
            "gridcolor": "white",
            "linecolor": "white",
            "ticks": ""
           }
          },
          "title": {
           "x": 0.05
          },
          "xaxis": {
           "automargin": true,
           "gridcolor": "white",
           "linecolor": "white",
           "ticks": "",
           "title": {
            "standoff": 15
           },
           "zerolinecolor": "white",
           "zerolinewidth": 2
          },
          "yaxis": {
           "automargin": true,
           "gridcolor": "white",
           "linecolor": "white",
           "ticks": "",
           "title": {
            "standoff": 15
           },
           "zerolinecolor": "white",
           "zerolinewidth": 2
          }
         }
        },
        "width": 500,
        "xaxis": {
         "autorange": false,
         "exponentformat": "e",
         "linecolor": "black",
         "linewidth": 1,
         "mirror": false,
         "range": [
          -0.0018232394754886627,
          0.0929852132499218
         ],
         "showexponent": "all",
         "showline": true,
         "side": "bottom",
         "ticks": "outside",
         "title": {
          "text": "Birth"
         },
         "type": "linear",
         "zeroline": true
        },
        "yaxis": {
         "autorange": false,
         "exponentformat": "e",
         "linecolor": "black",
         "linewidth": 1,
         "mirror": false,
         "range": [
          -0.0018232394754886627,
          0.0929852132499218
         ],
         "scaleanchor": "x",
         "scaleratio": 1,
         "showexponent": "all",
         "showline": true,
         "side": "left",
         "ticks": "outside",
         "title": {
          "text": "Death"
         },
         "type": "linear",
         "zeroline": true
        }
       }
      },
      "text/html": [
       "<div>                            <div id=\"80977bc1-2765-41b5-bf4e-5c8f16ee34b0\" class=\"plotly-graph-div\" style=\"height:500px; width:500px;\"></div>            <script type=\"text/javascript\">                require([\"plotly\"], function(Plotly) {                    window.PLOTLYENV=window.PLOTLYENV || {};                                    if (document.getElementById(\"80977bc1-2765-41b5-bf4e-5c8f16ee34b0\")) {                    Plotly.newPlot(                        \"80977bc1-2765-41b5-bf4e-5c8f16ee34b0\",                        [{\"hoverinfo\":\"none\",\"line\":{\"color\":\"black\",\"dash\":\"dash\",\"width\":1},\"mode\":\"lines\",\"showlegend\":false,\"x\":[-0.0018232394754886627,0.0929852132499218],\"y\":[-0.0018232394754886627,0.0929852132499218],\"type\":\"scatter\"},{\"hoverinfo\":\"text\",\"hovertext\":[\"(0.0, 0.0058665466494858265)\",\"(0.0, 0.010134648531675339)\",\"(0.0, 0.018325814977288246)\",\"(0.0, 0.026366621255874634)\",\"(0.0, 0.02958977036178112)\",\"(0.0, 0.03561827912926674)\",\"(0.0, 0.044782958924770355)\",\"(0.0, 0.05781744793057442)\",\"(0.0, 0.06446035206317902)\",\"(0.0, 0.06508360058069229)\",\"(0.0, 0.09116197377443314)\"],\"mode\":\"markers\",\"name\":\"H0\",\"x\":[0.0,0.0,0.0,0.0,0.0,0.0,0.0,0.0,0.0,0.0,0.0],\"y\":[0.0058665466494858265,0.010134648531675339,0.018325814977288246,0.026366621255874634,0.02958977036178112,0.03561827912926674,0.044782958924770355,0.05781744793057442,0.06446035206317902,0.06508360058069229,0.09116197377443314],\"type\":\"scatter\"},{\"hoverinfo\":\"text\",\"hovertext\":[],\"mode\":\"markers\",\"name\":\"H1\",\"x\":[],\"y\":[],\"type\":\"scatter\"}],                        {\"template\":{\"data\":{\"histogram2dcontour\":[{\"type\":\"histogram2dcontour\",\"colorbar\":{\"outlinewidth\":0,\"ticks\":\"\"},\"colorscale\":[[0.0,\"#0d0887\"],[0.1111111111111111,\"#46039f\"],[0.2222222222222222,\"#7201a8\"],[0.3333333333333333,\"#9c179e\"],[0.4444444444444444,\"#bd3786\"],[0.5555555555555556,\"#d8576b\"],[0.6666666666666666,\"#ed7953\"],[0.7777777777777778,\"#fb9f3a\"],[0.8888888888888888,\"#fdca26\"],[1.0,\"#f0f921\"]]}],\"choropleth\":[{\"type\":\"choropleth\",\"colorbar\":{\"outlinewidth\":0,\"ticks\":\"\"}}],\"histogram2d\":[{\"type\":\"histogram2d\",\"colorbar\":{\"outlinewidth\":0,\"ticks\":\"\"},\"colorscale\":[[0.0,\"#0d0887\"],[0.1111111111111111,\"#46039f\"],[0.2222222222222222,\"#7201a8\"],[0.3333333333333333,\"#9c179e\"],[0.4444444444444444,\"#bd3786\"],[0.5555555555555556,\"#d8576b\"],[0.6666666666666666,\"#ed7953\"],[0.7777777777777778,\"#fb9f3a\"],[0.8888888888888888,\"#fdca26\"],[1.0,\"#f0f921\"]]}],\"heatmap\":[{\"type\":\"heatmap\",\"colorbar\":{\"outlinewidth\":0,\"ticks\":\"\"},\"colorscale\":[[0.0,\"#0d0887\"],[0.1111111111111111,\"#46039f\"],[0.2222222222222222,\"#7201a8\"],[0.3333333333333333,\"#9c179e\"],[0.4444444444444444,\"#bd3786\"],[0.5555555555555556,\"#d8576b\"],[0.6666666666666666,\"#ed7953\"],[0.7777777777777778,\"#fb9f3a\"],[0.8888888888888888,\"#fdca26\"],[1.0,\"#f0f921\"]]}],\"heatmapgl\":[{\"type\":\"heatmapgl\",\"colorbar\":{\"outlinewidth\":0,\"ticks\":\"\"},\"colorscale\":[[0.0,\"#0d0887\"],[0.1111111111111111,\"#46039f\"],[0.2222222222222222,\"#7201a8\"],[0.3333333333333333,\"#9c179e\"],[0.4444444444444444,\"#bd3786\"],[0.5555555555555556,\"#d8576b\"],[0.6666666666666666,\"#ed7953\"],[0.7777777777777778,\"#fb9f3a\"],[0.8888888888888888,\"#fdca26\"],[1.0,\"#f0f921\"]]}],\"contourcarpet\":[{\"type\":\"contourcarpet\",\"colorbar\":{\"outlinewidth\":0,\"ticks\":\"\"}}],\"contour\":[{\"type\":\"contour\",\"colorbar\":{\"outlinewidth\":0,\"ticks\":\"\"},\"colorscale\":[[0.0,\"#0d0887\"],[0.1111111111111111,\"#46039f\"],[0.2222222222222222,\"#7201a8\"],[0.3333333333333333,\"#9c179e\"],[0.4444444444444444,\"#bd3786\"],[0.5555555555555556,\"#d8576b\"],[0.6666666666666666,\"#ed7953\"],[0.7777777777777778,\"#fb9f3a\"],[0.8888888888888888,\"#fdca26\"],[1.0,\"#f0f921\"]]}],\"surface\":[{\"type\":\"surface\",\"colorbar\":{\"outlinewidth\":0,\"ticks\":\"\"},\"colorscale\":[[0.0,\"#0d0887\"],[0.1111111111111111,\"#46039f\"],[0.2222222222222222,\"#7201a8\"],[0.3333333333333333,\"#9c179e\"],[0.4444444444444444,\"#bd3786\"],[0.5555555555555556,\"#d8576b\"],[0.6666666666666666,\"#ed7953\"],[0.7777777777777778,\"#fb9f3a\"],[0.8888888888888888,\"#fdca26\"],[1.0,\"#f0f921\"]]}],\"mesh3d\":[{\"type\":\"mesh3d\",\"colorbar\":{\"outlinewidth\":0,\"ticks\":\"\"}}],\"scatter\":[{\"fillpattern\":{\"fillmode\":\"overlay\",\"size\":10,\"solidity\":0.2},\"type\":\"scatter\"}],\"parcoords\":[{\"type\":\"parcoords\",\"line\":{\"colorbar\":{\"outlinewidth\":0,\"ticks\":\"\"}}}],\"scatterpolargl\":[{\"type\":\"scatterpolargl\",\"marker\":{\"colorbar\":{\"outlinewidth\":0,\"ticks\":\"\"}}}],\"bar\":[{\"error_x\":{\"color\":\"#2a3f5f\"},\"error_y\":{\"color\":\"#2a3f5f\"},\"marker\":{\"line\":{\"color\":\"#E5ECF6\",\"width\":0.5},\"pattern\":{\"fillmode\":\"overlay\",\"size\":10,\"solidity\":0.2}},\"type\":\"bar\"}],\"scattergeo\":[{\"type\":\"scattergeo\",\"marker\":{\"colorbar\":{\"outlinewidth\":0,\"ticks\":\"\"}}}],\"scatterpolar\":[{\"type\":\"scatterpolar\",\"marker\":{\"colorbar\":{\"outlinewidth\":0,\"ticks\":\"\"}}}],\"histogram\":[{\"marker\":{\"pattern\":{\"fillmode\":\"overlay\",\"size\":10,\"solidity\":0.2}},\"type\":\"histogram\"}],\"scattergl\":[{\"type\":\"scattergl\",\"marker\":{\"colorbar\":{\"outlinewidth\":0,\"ticks\":\"\"}}}],\"scatter3d\":[{\"type\":\"scatter3d\",\"line\":{\"colorbar\":{\"outlinewidth\":0,\"ticks\":\"\"}},\"marker\":{\"colorbar\":{\"outlinewidth\":0,\"ticks\":\"\"}}}],\"scattermapbox\":[{\"type\":\"scattermapbox\",\"marker\":{\"colorbar\":{\"outlinewidth\":0,\"ticks\":\"\"}}}],\"scatterternary\":[{\"type\":\"scatterternary\",\"marker\":{\"colorbar\":{\"outlinewidth\":0,\"ticks\":\"\"}}}],\"scattercarpet\":[{\"type\":\"scattercarpet\",\"marker\":{\"colorbar\":{\"outlinewidth\":0,\"ticks\":\"\"}}}],\"carpet\":[{\"aaxis\":{\"endlinecolor\":\"#2a3f5f\",\"gridcolor\":\"white\",\"linecolor\":\"white\",\"minorgridcolor\":\"white\",\"startlinecolor\":\"#2a3f5f\"},\"baxis\":{\"endlinecolor\":\"#2a3f5f\",\"gridcolor\":\"white\",\"linecolor\":\"white\",\"minorgridcolor\":\"white\",\"startlinecolor\":\"#2a3f5f\"},\"type\":\"carpet\"}],\"table\":[{\"cells\":{\"fill\":{\"color\":\"#EBF0F8\"},\"line\":{\"color\":\"white\"}},\"header\":{\"fill\":{\"color\":\"#C8D4E3\"},\"line\":{\"color\":\"white\"}},\"type\":\"table\"}],\"barpolar\":[{\"marker\":{\"line\":{\"color\":\"#E5ECF6\",\"width\":0.5},\"pattern\":{\"fillmode\":\"overlay\",\"size\":10,\"solidity\":0.2}},\"type\":\"barpolar\"}],\"pie\":[{\"automargin\":true,\"type\":\"pie\"}]},\"layout\":{\"autotypenumbers\":\"strict\",\"colorway\":[\"#636efa\",\"#EF553B\",\"#00cc96\",\"#ab63fa\",\"#FFA15A\",\"#19d3f3\",\"#FF6692\",\"#B6E880\",\"#FF97FF\",\"#FECB52\"],\"font\":{\"color\":\"#2a3f5f\"},\"hovermode\":\"closest\",\"hoverlabel\":{\"align\":\"left\"},\"paper_bgcolor\":\"white\",\"plot_bgcolor\":\"#E5ECF6\",\"polar\":{\"bgcolor\":\"#E5ECF6\",\"angularaxis\":{\"gridcolor\":\"white\",\"linecolor\":\"white\",\"ticks\":\"\"},\"radialaxis\":{\"gridcolor\":\"white\",\"linecolor\":\"white\",\"ticks\":\"\"}},\"ternary\":{\"bgcolor\":\"#E5ECF6\",\"aaxis\":{\"gridcolor\":\"white\",\"linecolor\":\"white\",\"ticks\":\"\"},\"baxis\":{\"gridcolor\":\"white\",\"linecolor\":\"white\",\"ticks\":\"\"},\"caxis\":{\"gridcolor\":\"white\",\"linecolor\":\"white\",\"ticks\":\"\"}},\"coloraxis\":{\"colorbar\":{\"outlinewidth\":0,\"ticks\":\"\"}},\"colorscale\":{\"sequential\":[[0.0,\"#0d0887\"],[0.1111111111111111,\"#46039f\"],[0.2222222222222222,\"#7201a8\"],[0.3333333333333333,\"#9c179e\"],[0.4444444444444444,\"#bd3786\"],[0.5555555555555556,\"#d8576b\"],[0.6666666666666666,\"#ed7953\"],[0.7777777777777778,\"#fb9f3a\"],[0.8888888888888888,\"#fdca26\"],[1.0,\"#f0f921\"]],\"sequentialminus\":[[0.0,\"#0d0887\"],[0.1111111111111111,\"#46039f\"],[0.2222222222222222,\"#7201a8\"],[0.3333333333333333,\"#9c179e\"],[0.4444444444444444,\"#bd3786\"],[0.5555555555555556,\"#d8576b\"],[0.6666666666666666,\"#ed7953\"],[0.7777777777777778,\"#fb9f3a\"],[0.8888888888888888,\"#fdca26\"],[1.0,\"#f0f921\"]],\"diverging\":[[0,\"#8e0152\"],[0.1,\"#c51b7d\"],[0.2,\"#de77ae\"],[0.3,\"#f1b6da\"],[0.4,\"#fde0ef\"],[0.5,\"#f7f7f7\"],[0.6,\"#e6f5d0\"],[0.7,\"#b8e186\"],[0.8,\"#7fbc41\"],[0.9,\"#4d9221\"],[1,\"#276419\"]]},\"xaxis\":{\"gridcolor\":\"white\",\"linecolor\":\"white\",\"ticks\":\"\",\"title\":{\"standoff\":15},\"zerolinecolor\":\"white\",\"automargin\":true,\"zerolinewidth\":2},\"yaxis\":{\"gridcolor\":\"white\",\"linecolor\":\"white\",\"ticks\":\"\",\"title\":{\"standoff\":15},\"zerolinecolor\":\"white\",\"automargin\":true,\"zerolinewidth\":2},\"scene\":{\"xaxis\":{\"backgroundcolor\":\"#E5ECF6\",\"gridcolor\":\"white\",\"linecolor\":\"white\",\"showbackground\":true,\"ticks\":\"\",\"zerolinecolor\":\"white\",\"gridwidth\":2},\"yaxis\":{\"backgroundcolor\":\"#E5ECF6\",\"gridcolor\":\"white\",\"linecolor\":\"white\",\"showbackground\":true,\"ticks\":\"\",\"zerolinecolor\":\"white\",\"gridwidth\":2},\"zaxis\":{\"backgroundcolor\":\"#E5ECF6\",\"gridcolor\":\"white\",\"linecolor\":\"white\",\"showbackground\":true,\"ticks\":\"\",\"zerolinecolor\":\"white\",\"gridwidth\":2}},\"shapedefaults\":{\"line\":{\"color\":\"#2a3f5f\"}},\"annotationdefaults\":{\"arrowcolor\":\"#2a3f5f\",\"arrowhead\":0,\"arrowwidth\":1},\"geo\":{\"bgcolor\":\"white\",\"landcolor\":\"#E5ECF6\",\"subunitcolor\":\"white\",\"showland\":true,\"showlakes\":true,\"lakecolor\":\"white\"},\"title\":{\"x\":0.05},\"mapbox\":{\"style\":\"light\"}}},\"xaxis\":{\"title\":{\"text\":\"Birth\"},\"side\":\"bottom\",\"type\":\"linear\",\"range\":[-0.0018232394754886627,0.0929852132499218],\"autorange\":false,\"ticks\":\"outside\",\"showline\":true,\"zeroline\":true,\"linewidth\":1,\"linecolor\":\"black\",\"mirror\":false,\"showexponent\":\"all\",\"exponentformat\":\"e\"},\"yaxis\":{\"title\":{\"text\":\"Death\"},\"side\":\"left\",\"type\":\"linear\",\"range\":[-0.0018232394754886627,0.0929852132499218],\"autorange\":false,\"scaleanchor\":\"x\",\"scaleratio\":1,\"ticks\":\"outside\",\"showline\":true,\"zeroline\":true,\"linewidth\":1,\"linecolor\":\"black\",\"mirror\":false,\"showexponent\":\"all\",\"exponentformat\":\"e\"},\"width\":500,\"height\":500,\"plot_bgcolor\":\"white\"},                        {\"responsive\": true}                    ).then(function(){\n",
       "                            \n",
       "var gd = document.getElementById('80977bc1-2765-41b5-bf4e-5c8f16ee34b0');\n",
       "var x = new MutationObserver(function (mutations, observer) {{\n",
       "        var display = window.getComputedStyle(gd).display;\n",
       "        if (!display || display === 'none') {{\n",
       "            console.log([gd, 'removed!']);\n",
       "            Plotly.purge(gd);\n",
       "            observer.disconnect();\n",
       "        }}\n",
       "}});\n",
       "\n",
       "// Listen for the removal of the full notebook cells\n",
       "var notebookContainer = gd.closest('#notebook-container');\n",
       "if (notebookContainer) {{\n",
       "    x.observe(notebookContainer, {childList: true});\n",
       "}}\n",
       "\n",
       "// Listen for the clearing of the current output cell\n",
       "var outputEl = gd.closest('.output');\n",
       "if (outputEl) {{\n",
       "    x.observe(outputEl, {childList: true});\n",
       "}}\n",
       "\n",
       "                        })                };                });            </script>        </div>"
      ]
     },
     "metadata": {},
     "output_type": "display_data"
    },
    {
     "data": {
      "application/vnd.plotly.v1+json": {
       "config": {
        "plotlyServerURL": "https://plot.ly"
       },
       "data": [
        {
         "hoverinfo": "none",
         "mode": "lines",
         "name": "Layer 1",
         "showlegend": true,
         "type": "scatter",
         "x": [
          0,
          0.000920828017923567,
          0.001841656035847134,
          0.002762484053770701,
          0.003683312071694268,
          0.004604140089617835,
          0.005524968107541402,
          0.0064457961254649684,
          0.007366624143388536,
          0.008287452161312103,
          0.00920828017923567,
          0.010129108197159236,
          0.011049936215082804,
          0.011970764233006371,
          0.012891592250929937,
          0.013812420268853504,
          0.014733248286777072,
          0.01565407630470064,
          0.016574904322624207,
          0.017495732340547774,
          0.01841656035847134,
          0.019337388376394905,
          0.020258216394318473,
          0.02117904441224204,
          0.022099872430165608,
          0.023020700448089175,
          0.023941528466012742,
          0.02486235648393631,
          0.025783184501859874,
          0.02670401251978344,
          0.02762484053770701,
          0.028545668555630576,
          0.029466496573554143,
          0.03038732459147771,
          0.03130815260940128,
          0.03222898062732484,
          0.03314980864524841,
          0.03407063666317198,
          0.03499146468109555,
          0.03591229269901911,
          0.03683312071694268,
          0.03775394873486625,
          0.03867477675278981,
          0.03959560477071338,
          0.040516432788636945,
          0.041437260806560516,
          0.04235808882448408,
          0.04327891684240765,
          0.044199744860331215,
          0.04512057287825478,
          0.04604140089617835,
          0.046962228914101914,
          0.047883056932025485,
          0.04880388494994905,
          0.04972471296787262,
          0.050645540985796184,
          0.05156636900371975,
          0.05248719702164332,
          0.05340802503956688,
          0.05432885305749045,
          0.05524968107541402,
          0.05617050909333759,
          0.05709133711126115,
          0.05801216512918472,
          0.05893299314710829,
          0.05985382116503185,
          0.06077464918295542,
          0.061695477200878986,
          0.06261630521880256,
          0.06353713323672612,
          0.06445796125464968,
          0.06537878927257326,
          0.06629961729049683,
          0.06722044530842039,
          0.06814127332634395,
          0.06906210134426752,
          0.0699829293621911,
          0.07090375738011466,
          0.07182458539803822,
          0.07274541341596179,
          0.07366624143388537,
          0.07458706945180893,
          0.0755078974697325,
          0.07642872548765606,
          0.07734955350557962,
          0.0782703815235032,
          0.07919120954142676,
          0.08011203755935033,
          0.08103286557727389,
          0.08195369359519745,
          0.08287452161312103,
          0.0837953496310446,
          0.08471617764896816,
          0.08563700566689172,
          0.0865578336848153,
          0.08747866170273887,
          0.08839948972066243,
          0.089320317738586,
          0.09024114575650956,
          0.09116197377443314
         ],
         "xaxis": "x",
         "y": [
          0,
          0,
          0,
          0,
          0,
          0,
          0,
          0,
          0,
          0,
          0,
          0,
          0,
          0,
          0,
          0,
          0,
          0,
          0,
          0,
          0,
          0,
          0,
          0,
          0,
          0,
          0,
          0,
          0,
          0,
          0,
          0,
          0,
          0,
          0,
          0,
          0,
          0,
          0,
          0,
          0,
          0,
          0,
          0,
          0,
          0,
          0,
          0,
          0,
          0,
          0,
          0,
          0,
          0,
          0,
          0,
          0,
          0,
          0,
          0,
          0,
          0,
          0,
          0,
          0,
          0,
          0,
          0,
          0,
          0,
          0,
          0,
          0,
          0,
          0,
          0,
          0,
          0,
          0,
          0,
          0,
          0,
          0,
          0,
          0,
          0,
          0,
          0,
          0,
          0,
          0,
          0,
          0,
          0,
          0,
          0,
          0,
          0,
          0,
          0
         ],
         "yaxis": "y"
        }
       ],
       "layout": {
        "annotations": [
         {
          "font": {
           "size": 16
          },
          "showarrow": false,
          "text": "H1",
          "x": 0.5,
          "xanchor": "center",
          "xref": "paper",
          "y": 1,
          "yanchor": "bottom",
          "yref": "paper"
         }
        ],
        "plot_bgcolor": "white",
        "template": {
         "data": {
          "bar": [
           {
            "error_x": {
             "color": "#2a3f5f"
            },
            "error_y": {
             "color": "#2a3f5f"
            },
            "marker": {
             "line": {
              "color": "#E5ECF6",
              "width": 0.5
             },
             "pattern": {
              "fillmode": "overlay",
              "size": 10,
              "solidity": 0.2
             }
            },
            "type": "bar"
           }
          ],
          "barpolar": [
           {
            "marker": {
             "line": {
              "color": "#E5ECF6",
              "width": 0.5
             },
             "pattern": {
              "fillmode": "overlay",
              "size": 10,
              "solidity": 0.2
             }
            },
            "type": "barpolar"
           }
          ],
          "carpet": [
           {
            "aaxis": {
             "endlinecolor": "#2a3f5f",
             "gridcolor": "white",
             "linecolor": "white",
             "minorgridcolor": "white",
             "startlinecolor": "#2a3f5f"
            },
            "baxis": {
             "endlinecolor": "#2a3f5f",
             "gridcolor": "white",
             "linecolor": "white",
             "minorgridcolor": "white",
             "startlinecolor": "#2a3f5f"
            },
            "type": "carpet"
           }
          ],
          "choropleth": [
           {
            "colorbar": {
             "outlinewidth": 0,
             "ticks": ""
            },
            "type": "choropleth"
           }
          ],
          "contour": [
           {
            "colorbar": {
             "outlinewidth": 0,
             "ticks": ""
            },
            "colorscale": [
             [
              0,
              "#0d0887"
             ],
             [
              0.1111111111111111,
              "#46039f"
             ],
             [
              0.2222222222222222,
              "#7201a8"
             ],
             [
              0.3333333333333333,
              "#9c179e"
             ],
             [
              0.4444444444444444,
              "#bd3786"
             ],
             [
              0.5555555555555556,
              "#d8576b"
             ],
             [
              0.6666666666666666,
              "#ed7953"
             ],
             [
              0.7777777777777778,
              "#fb9f3a"
             ],
             [
              0.8888888888888888,
              "#fdca26"
             ],
             [
              1,
              "#f0f921"
             ]
            ],
            "type": "contour"
           }
          ],
          "contourcarpet": [
           {
            "colorbar": {
             "outlinewidth": 0,
             "ticks": ""
            },
            "type": "contourcarpet"
           }
          ],
          "heatmap": [
           {
            "colorbar": {
             "outlinewidth": 0,
             "ticks": ""
            },
            "colorscale": [
             [
              0,
              "#0d0887"
             ],
             [
              0.1111111111111111,
              "#46039f"
             ],
             [
              0.2222222222222222,
              "#7201a8"
             ],
             [
              0.3333333333333333,
              "#9c179e"
             ],
             [
              0.4444444444444444,
              "#bd3786"
             ],
             [
              0.5555555555555556,
              "#d8576b"
             ],
             [
              0.6666666666666666,
              "#ed7953"
             ],
             [
              0.7777777777777778,
              "#fb9f3a"
             ],
             [
              0.8888888888888888,
              "#fdca26"
             ],
             [
              1,
              "#f0f921"
             ]
            ],
            "type": "heatmap"
           }
          ],
          "heatmapgl": [
           {
            "colorbar": {
             "outlinewidth": 0,
             "ticks": ""
            },
            "colorscale": [
             [
              0,
              "#0d0887"
             ],
             [
              0.1111111111111111,
              "#46039f"
             ],
             [
              0.2222222222222222,
              "#7201a8"
             ],
             [
              0.3333333333333333,
              "#9c179e"
             ],
             [
              0.4444444444444444,
              "#bd3786"
             ],
             [
              0.5555555555555556,
              "#d8576b"
             ],
             [
              0.6666666666666666,
              "#ed7953"
             ],
             [
              0.7777777777777778,
              "#fb9f3a"
             ],
             [
              0.8888888888888888,
              "#fdca26"
             ],
             [
              1,
              "#f0f921"
             ]
            ],
            "type": "heatmapgl"
           }
          ],
          "histogram": [
           {
            "marker": {
             "pattern": {
              "fillmode": "overlay",
              "size": 10,
              "solidity": 0.2
             }
            },
            "type": "histogram"
           }
          ],
          "histogram2d": [
           {
            "colorbar": {
             "outlinewidth": 0,
             "ticks": ""
            },
            "colorscale": [
             [
              0,
              "#0d0887"
             ],
             [
              0.1111111111111111,
              "#46039f"
             ],
             [
              0.2222222222222222,
              "#7201a8"
             ],
             [
              0.3333333333333333,
              "#9c179e"
             ],
             [
              0.4444444444444444,
              "#bd3786"
             ],
             [
              0.5555555555555556,
              "#d8576b"
             ],
             [
              0.6666666666666666,
              "#ed7953"
             ],
             [
              0.7777777777777778,
              "#fb9f3a"
             ],
             [
              0.8888888888888888,
              "#fdca26"
             ],
             [
              1,
              "#f0f921"
             ]
            ],
            "type": "histogram2d"
           }
          ],
          "histogram2dcontour": [
           {
            "colorbar": {
             "outlinewidth": 0,
             "ticks": ""
            },
            "colorscale": [
             [
              0,
              "#0d0887"
             ],
             [
              0.1111111111111111,
              "#46039f"
             ],
             [
              0.2222222222222222,
              "#7201a8"
             ],
             [
              0.3333333333333333,
              "#9c179e"
             ],
             [
              0.4444444444444444,
              "#bd3786"
             ],
             [
              0.5555555555555556,
              "#d8576b"
             ],
             [
              0.6666666666666666,
              "#ed7953"
             ],
             [
              0.7777777777777778,
              "#fb9f3a"
             ],
             [
              0.8888888888888888,
              "#fdca26"
             ],
             [
              1,
              "#f0f921"
             ]
            ],
            "type": "histogram2dcontour"
           }
          ],
          "mesh3d": [
           {
            "colorbar": {
             "outlinewidth": 0,
             "ticks": ""
            },
            "type": "mesh3d"
           }
          ],
          "parcoords": [
           {
            "line": {
             "colorbar": {
              "outlinewidth": 0,
              "ticks": ""
             }
            },
            "type": "parcoords"
           }
          ],
          "pie": [
           {
            "automargin": true,
            "type": "pie"
           }
          ],
          "scatter": [
           {
            "fillpattern": {
             "fillmode": "overlay",
             "size": 10,
             "solidity": 0.2
            },
            "type": "scatter"
           }
          ],
          "scatter3d": [
           {
            "line": {
             "colorbar": {
              "outlinewidth": 0,
              "ticks": ""
             }
            },
            "marker": {
             "colorbar": {
              "outlinewidth": 0,
              "ticks": ""
             }
            },
            "type": "scatter3d"
           }
          ],
          "scattercarpet": [
           {
            "marker": {
             "colorbar": {
              "outlinewidth": 0,
              "ticks": ""
             }
            },
            "type": "scattercarpet"
           }
          ],
          "scattergeo": [
           {
            "marker": {
             "colorbar": {
              "outlinewidth": 0,
              "ticks": ""
             }
            },
            "type": "scattergeo"
           }
          ],
          "scattergl": [
           {
            "marker": {
             "colorbar": {
              "outlinewidth": 0,
              "ticks": ""
             }
            },
            "type": "scattergl"
           }
          ],
          "scattermapbox": [
           {
            "marker": {
             "colorbar": {
              "outlinewidth": 0,
              "ticks": ""
             }
            },
            "type": "scattermapbox"
           }
          ],
          "scatterpolar": [
           {
            "marker": {
             "colorbar": {
              "outlinewidth": 0,
              "ticks": ""
             }
            },
            "type": "scatterpolar"
           }
          ],
          "scatterpolargl": [
           {
            "marker": {
             "colorbar": {
              "outlinewidth": 0,
              "ticks": ""
             }
            },
            "type": "scatterpolargl"
           }
          ],
          "scatterternary": [
           {
            "marker": {
             "colorbar": {
              "outlinewidth": 0,
              "ticks": ""
             }
            },
            "type": "scatterternary"
           }
          ],
          "surface": [
           {
            "colorbar": {
             "outlinewidth": 0,
             "ticks": ""
            },
            "colorscale": [
             [
              0,
              "#0d0887"
             ],
             [
              0.1111111111111111,
              "#46039f"
             ],
             [
              0.2222222222222222,
              "#7201a8"
             ],
             [
              0.3333333333333333,
              "#9c179e"
             ],
             [
              0.4444444444444444,
              "#bd3786"
             ],
             [
              0.5555555555555556,
              "#d8576b"
             ],
             [
              0.6666666666666666,
              "#ed7953"
             ],
             [
              0.7777777777777778,
              "#fb9f3a"
             ],
             [
              0.8888888888888888,
              "#fdca26"
             ],
             [
              1,
              "#f0f921"
             ]
            ],
            "type": "surface"
           }
          ],
          "table": [
           {
            "cells": {
             "fill": {
              "color": "#EBF0F8"
             },
             "line": {
              "color": "white"
             }
            },
            "header": {
             "fill": {
              "color": "#C8D4E3"
             },
             "line": {
              "color": "white"
             }
            },
            "type": "table"
           }
          ]
         },
         "layout": {
          "annotationdefaults": {
           "arrowcolor": "#2a3f5f",
           "arrowhead": 0,
           "arrowwidth": 1
          },
          "autotypenumbers": "strict",
          "coloraxis": {
           "colorbar": {
            "outlinewidth": 0,
            "ticks": ""
           }
          },
          "colorscale": {
           "diverging": [
            [
             0,
             "#8e0152"
            ],
            [
             0.1,
             "#c51b7d"
            ],
            [
             0.2,
             "#de77ae"
            ],
            [
             0.3,
             "#f1b6da"
            ],
            [
             0.4,
             "#fde0ef"
            ],
            [
             0.5,
             "#f7f7f7"
            ],
            [
             0.6,
             "#e6f5d0"
            ],
            [
             0.7,
             "#b8e186"
            ],
            [
             0.8,
             "#7fbc41"
            ],
            [
             0.9,
             "#4d9221"
            ],
            [
             1,
             "#276419"
            ]
           ],
           "sequential": [
            [
             0,
             "#0d0887"
            ],
            [
             0.1111111111111111,
             "#46039f"
            ],
            [
             0.2222222222222222,
             "#7201a8"
            ],
            [
             0.3333333333333333,
             "#9c179e"
            ],
            [
             0.4444444444444444,
             "#bd3786"
            ],
            [
             0.5555555555555556,
             "#d8576b"
            ],
            [
             0.6666666666666666,
             "#ed7953"
            ],
            [
             0.7777777777777778,
             "#fb9f3a"
            ],
            [
             0.8888888888888888,
             "#fdca26"
            ],
            [
             1,
             "#f0f921"
            ]
           ],
           "sequentialminus": [
            [
             0,
             "#0d0887"
            ],
            [
             0.1111111111111111,
             "#46039f"
            ],
            [
             0.2222222222222222,
             "#7201a8"
            ],
            [
             0.3333333333333333,
             "#9c179e"
            ],
            [
             0.4444444444444444,
             "#bd3786"
            ],
            [
             0.5555555555555556,
             "#d8576b"
            ],
            [
             0.6666666666666666,
             "#ed7953"
            ],
            [
             0.7777777777777778,
             "#fb9f3a"
            ],
            [
             0.8888888888888888,
             "#fdca26"
            ],
            [
             1,
             "#f0f921"
            ]
           ]
          },
          "colorway": [
           "#636efa",
           "#EF553B",
           "#00cc96",
           "#ab63fa",
           "#FFA15A",
           "#19d3f3",
           "#FF6692",
           "#B6E880",
           "#FF97FF",
           "#FECB52"
          ],
          "font": {
           "color": "#2a3f5f"
          },
          "geo": {
           "bgcolor": "white",
           "lakecolor": "white",
           "landcolor": "#E5ECF6",
           "showlakes": true,
           "showland": true,
           "subunitcolor": "white"
          },
          "hoverlabel": {
           "align": "left"
          },
          "hovermode": "closest",
          "mapbox": {
           "style": "light"
          },
          "paper_bgcolor": "white",
          "plot_bgcolor": "#E5ECF6",
          "polar": {
           "angularaxis": {
            "gridcolor": "white",
            "linecolor": "white",
            "ticks": ""
           },
           "bgcolor": "#E5ECF6",
           "radialaxis": {
            "gridcolor": "white",
            "linecolor": "white",
            "ticks": ""
           }
          },
          "scene": {
           "xaxis": {
            "backgroundcolor": "#E5ECF6",
            "gridcolor": "white",
            "gridwidth": 2,
            "linecolor": "white",
            "showbackground": true,
            "ticks": "",
            "zerolinecolor": "white"
           },
           "yaxis": {
            "backgroundcolor": "#E5ECF6",
            "gridcolor": "white",
            "gridwidth": 2,
            "linecolor": "white",
            "showbackground": true,
            "ticks": "",
            "zerolinecolor": "white"
           },
           "zaxis": {
            "backgroundcolor": "#E5ECF6",
            "gridcolor": "white",
            "gridwidth": 2,
            "linecolor": "white",
            "showbackground": true,
            "ticks": "",
            "zerolinecolor": "white"
           }
          },
          "shapedefaults": {
           "line": {
            "color": "#2a3f5f"
           }
          },
          "ternary": {
           "aaxis": {
            "gridcolor": "white",
            "linecolor": "white",
            "ticks": ""
           },
           "baxis": {
            "gridcolor": "white",
            "linecolor": "white",
            "ticks": ""
           },
           "bgcolor": "#E5ECF6",
           "caxis": {
            "gridcolor": "white",
            "linecolor": "white",
            "ticks": ""
           }
          },
          "title": {
           "x": 0.05
          },
          "xaxis": {
           "automargin": true,
           "gridcolor": "white",
           "linecolor": "white",
           "ticks": "",
           "title": {
            "standoff": 15
           },
           "zerolinecolor": "white",
           "zerolinewidth": 2
          },
          "yaxis": {
           "automargin": true,
           "gridcolor": "white",
           "linecolor": "white",
           "ticks": "",
           "title": {
            "standoff": 15
           },
           "zerolinecolor": "white",
           "zerolinewidth": 2
          }
         }
        },
        "title": {
         "text": "Landscape representations of diagram 0"
        },
        "xaxis": {
         "anchor": "y",
         "domain": [
          0,
          1
         ],
         "exponentformat": "e",
         "linecolor": "black",
         "linewidth": 1,
         "mirror": false,
         "showexponent": "all",
         "showline": true,
         "side": "bottom",
         "ticks": "outside",
         "type": "linear",
         "zeroline": true
        },
        "yaxis": {
         "anchor": "x",
         "domain": [
          0,
          1
         ],
         "exponentformat": "e",
         "linecolor": "black",
         "linewidth": 1,
         "mirror": false,
         "showexponent": "all",
         "showline": true,
         "side": "left",
         "ticks": "outside",
         "type": "linear",
         "zeroline": true
        }
       }
      },
      "text/html": [
       "<div>                            <div id=\"ede3ada3-e6df-4a91-97af-57133c838fb2\" class=\"plotly-graph-div\" style=\"height:525px; width:100%;\"></div>            <script type=\"text/javascript\">                require([\"plotly\"], function(Plotly) {                    window.PLOTLYENV=window.PLOTLYENV || {};                                    if (document.getElementById(\"ede3ada3-e6df-4a91-97af-57133c838fb2\")) {                    Plotly.newPlot(                        \"ede3ada3-e6df-4a91-97af-57133c838fb2\",                        [{\"hoverinfo\":\"none\",\"mode\":\"lines\",\"name\":\"Layer 1\",\"showlegend\":true,\"x\":[0.0,0.000920828017923567,0.001841656035847134,0.002762484053770701,0.003683312071694268,0.004604140089617835,0.005524968107541402,0.0064457961254649684,0.007366624143388536,0.008287452161312103,0.00920828017923567,0.010129108197159236,0.011049936215082804,0.011970764233006371,0.012891592250929937,0.013812420268853504,0.014733248286777072,0.01565407630470064,0.016574904322624207,0.017495732340547774,0.01841656035847134,0.019337388376394905,0.020258216394318473,0.02117904441224204,0.022099872430165608,0.023020700448089175,0.023941528466012742,0.02486235648393631,0.025783184501859874,0.02670401251978344,0.02762484053770701,0.028545668555630576,0.029466496573554143,0.03038732459147771,0.03130815260940128,0.03222898062732484,0.03314980864524841,0.03407063666317198,0.03499146468109555,0.03591229269901911,0.03683312071694268,0.03775394873486625,0.03867477675278981,0.03959560477071338,0.040516432788636945,0.041437260806560516,0.04235808882448408,0.04327891684240765,0.044199744860331215,0.04512057287825478,0.04604140089617835,0.046962228914101914,0.047883056932025485,0.04880388494994905,0.04972471296787262,0.050645540985796184,0.05156636900371975,0.05248719702164332,0.05340802503956688,0.05432885305749045,0.05524968107541402,0.05617050909333759,0.05709133711126115,0.05801216512918472,0.05893299314710829,0.05985382116503185,0.06077464918295542,0.061695477200878986,0.06261630521880256,0.06353713323672612,0.06445796125464968,0.06537878927257326,0.06629961729049683,0.06722044530842039,0.06814127332634395,0.06906210134426752,0.0699829293621911,0.07090375738011466,0.07182458539803822,0.07274541341596179,0.07366624143388537,0.07458706945180893,0.0755078974697325,0.07642872548765606,0.07734955350557962,0.0782703815235032,0.07919120954142676,0.08011203755935033,0.08103286557727389,0.08195369359519745,0.08287452161312103,0.0837953496310446,0.08471617764896816,0.08563700566689172,0.0865578336848153,0.08747866170273887,0.08839948972066243,0.089320317738586,0.09024114575650956,0.09116197377443314],\"y\":[0.0,0.0,0.0,0.0,0.0,0.0,0.0,0.0,0.0,0.0,0.0,0.0,0.0,0.0,0.0,0.0,0.0,0.0,0.0,0.0,0.0,0.0,0.0,0.0,0.0,0.0,0.0,0.0,0.0,0.0,0.0,0.0,0.0,0.0,0.0,0.0,0.0,0.0,0.0,0.0,0.0,0.0,0.0,0.0,0.0,0.0,0.0,0.0,0.0,0.0,0.0,0.0,0.0,0.0,0.0,0.0,0.0,0.0,0.0,0.0,0.0,0.0,0.0,0.0,0.0,0.0,0.0,0.0,0.0,0.0,0.0,0.0,0.0,0.0,0.0,0.0,0.0,0.0,0.0,0.0,0.0,0.0,0.0,0.0,0.0,0.0,0.0,0.0,0.0,0.0,0.0,0.0,0.0,0.0,0.0,0.0,0.0,0.0,0.0,0.0],\"type\":\"scatter\",\"xaxis\":\"x\",\"yaxis\":\"y\"}],                        {\"template\":{\"data\":{\"histogram2dcontour\":[{\"type\":\"histogram2dcontour\",\"colorbar\":{\"outlinewidth\":0,\"ticks\":\"\"},\"colorscale\":[[0.0,\"#0d0887\"],[0.1111111111111111,\"#46039f\"],[0.2222222222222222,\"#7201a8\"],[0.3333333333333333,\"#9c179e\"],[0.4444444444444444,\"#bd3786\"],[0.5555555555555556,\"#d8576b\"],[0.6666666666666666,\"#ed7953\"],[0.7777777777777778,\"#fb9f3a\"],[0.8888888888888888,\"#fdca26\"],[1.0,\"#f0f921\"]]}],\"choropleth\":[{\"type\":\"choropleth\",\"colorbar\":{\"outlinewidth\":0,\"ticks\":\"\"}}],\"histogram2d\":[{\"type\":\"histogram2d\",\"colorbar\":{\"outlinewidth\":0,\"ticks\":\"\"},\"colorscale\":[[0.0,\"#0d0887\"],[0.1111111111111111,\"#46039f\"],[0.2222222222222222,\"#7201a8\"],[0.3333333333333333,\"#9c179e\"],[0.4444444444444444,\"#bd3786\"],[0.5555555555555556,\"#d8576b\"],[0.6666666666666666,\"#ed7953\"],[0.7777777777777778,\"#fb9f3a\"],[0.8888888888888888,\"#fdca26\"],[1.0,\"#f0f921\"]]}],\"heatmap\":[{\"type\":\"heatmap\",\"colorbar\":{\"outlinewidth\":0,\"ticks\":\"\"},\"colorscale\":[[0.0,\"#0d0887\"],[0.1111111111111111,\"#46039f\"],[0.2222222222222222,\"#7201a8\"],[0.3333333333333333,\"#9c179e\"],[0.4444444444444444,\"#bd3786\"],[0.5555555555555556,\"#d8576b\"],[0.6666666666666666,\"#ed7953\"],[0.7777777777777778,\"#fb9f3a\"],[0.8888888888888888,\"#fdca26\"],[1.0,\"#f0f921\"]]}],\"heatmapgl\":[{\"type\":\"heatmapgl\",\"colorbar\":{\"outlinewidth\":0,\"ticks\":\"\"},\"colorscale\":[[0.0,\"#0d0887\"],[0.1111111111111111,\"#46039f\"],[0.2222222222222222,\"#7201a8\"],[0.3333333333333333,\"#9c179e\"],[0.4444444444444444,\"#bd3786\"],[0.5555555555555556,\"#d8576b\"],[0.6666666666666666,\"#ed7953\"],[0.7777777777777778,\"#fb9f3a\"],[0.8888888888888888,\"#fdca26\"],[1.0,\"#f0f921\"]]}],\"contourcarpet\":[{\"type\":\"contourcarpet\",\"colorbar\":{\"outlinewidth\":0,\"ticks\":\"\"}}],\"contour\":[{\"type\":\"contour\",\"colorbar\":{\"outlinewidth\":0,\"ticks\":\"\"},\"colorscale\":[[0.0,\"#0d0887\"],[0.1111111111111111,\"#46039f\"],[0.2222222222222222,\"#7201a8\"],[0.3333333333333333,\"#9c179e\"],[0.4444444444444444,\"#bd3786\"],[0.5555555555555556,\"#d8576b\"],[0.6666666666666666,\"#ed7953\"],[0.7777777777777778,\"#fb9f3a\"],[0.8888888888888888,\"#fdca26\"],[1.0,\"#f0f921\"]]}],\"surface\":[{\"type\":\"surface\",\"colorbar\":{\"outlinewidth\":0,\"ticks\":\"\"},\"colorscale\":[[0.0,\"#0d0887\"],[0.1111111111111111,\"#46039f\"],[0.2222222222222222,\"#7201a8\"],[0.3333333333333333,\"#9c179e\"],[0.4444444444444444,\"#bd3786\"],[0.5555555555555556,\"#d8576b\"],[0.6666666666666666,\"#ed7953\"],[0.7777777777777778,\"#fb9f3a\"],[0.8888888888888888,\"#fdca26\"],[1.0,\"#f0f921\"]]}],\"mesh3d\":[{\"type\":\"mesh3d\",\"colorbar\":{\"outlinewidth\":0,\"ticks\":\"\"}}],\"scatter\":[{\"fillpattern\":{\"fillmode\":\"overlay\",\"size\":10,\"solidity\":0.2},\"type\":\"scatter\"}],\"parcoords\":[{\"type\":\"parcoords\",\"line\":{\"colorbar\":{\"outlinewidth\":0,\"ticks\":\"\"}}}],\"scatterpolargl\":[{\"type\":\"scatterpolargl\",\"marker\":{\"colorbar\":{\"outlinewidth\":0,\"ticks\":\"\"}}}],\"bar\":[{\"error_x\":{\"color\":\"#2a3f5f\"},\"error_y\":{\"color\":\"#2a3f5f\"},\"marker\":{\"line\":{\"color\":\"#E5ECF6\",\"width\":0.5},\"pattern\":{\"fillmode\":\"overlay\",\"size\":10,\"solidity\":0.2}},\"type\":\"bar\"}],\"scattergeo\":[{\"type\":\"scattergeo\",\"marker\":{\"colorbar\":{\"outlinewidth\":0,\"ticks\":\"\"}}}],\"scatterpolar\":[{\"type\":\"scatterpolar\",\"marker\":{\"colorbar\":{\"outlinewidth\":0,\"ticks\":\"\"}}}],\"histogram\":[{\"marker\":{\"pattern\":{\"fillmode\":\"overlay\",\"size\":10,\"solidity\":0.2}},\"type\":\"histogram\"}],\"scattergl\":[{\"type\":\"scattergl\",\"marker\":{\"colorbar\":{\"outlinewidth\":0,\"ticks\":\"\"}}}],\"scatter3d\":[{\"type\":\"scatter3d\",\"line\":{\"colorbar\":{\"outlinewidth\":0,\"ticks\":\"\"}},\"marker\":{\"colorbar\":{\"outlinewidth\":0,\"ticks\":\"\"}}}],\"scattermapbox\":[{\"type\":\"scattermapbox\",\"marker\":{\"colorbar\":{\"outlinewidth\":0,\"ticks\":\"\"}}}],\"scatterternary\":[{\"type\":\"scatterternary\",\"marker\":{\"colorbar\":{\"outlinewidth\":0,\"ticks\":\"\"}}}],\"scattercarpet\":[{\"type\":\"scattercarpet\",\"marker\":{\"colorbar\":{\"outlinewidth\":0,\"ticks\":\"\"}}}],\"carpet\":[{\"aaxis\":{\"endlinecolor\":\"#2a3f5f\",\"gridcolor\":\"white\",\"linecolor\":\"white\",\"minorgridcolor\":\"white\",\"startlinecolor\":\"#2a3f5f\"},\"baxis\":{\"endlinecolor\":\"#2a3f5f\",\"gridcolor\":\"white\",\"linecolor\":\"white\",\"minorgridcolor\":\"white\",\"startlinecolor\":\"#2a3f5f\"},\"type\":\"carpet\"}],\"table\":[{\"cells\":{\"fill\":{\"color\":\"#EBF0F8\"},\"line\":{\"color\":\"white\"}},\"header\":{\"fill\":{\"color\":\"#C8D4E3\"},\"line\":{\"color\":\"white\"}},\"type\":\"table\"}],\"barpolar\":[{\"marker\":{\"line\":{\"color\":\"#E5ECF6\",\"width\":0.5},\"pattern\":{\"fillmode\":\"overlay\",\"size\":10,\"solidity\":0.2}},\"type\":\"barpolar\"}],\"pie\":[{\"automargin\":true,\"type\":\"pie\"}]},\"layout\":{\"autotypenumbers\":\"strict\",\"colorway\":[\"#636efa\",\"#EF553B\",\"#00cc96\",\"#ab63fa\",\"#FFA15A\",\"#19d3f3\",\"#FF6692\",\"#B6E880\",\"#FF97FF\",\"#FECB52\"],\"font\":{\"color\":\"#2a3f5f\"},\"hovermode\":\"closest\",\"hoverlabel\":{\"align\":\"left\"},\"paper_bgcolor\":\"white\",\"plot_bgcolor\":\"#E5ECF6\",\"polar\":{\"bgcolor\":\"#E5ECF6\",\"angularaxis\":{\"gridcolor\":\"white\",\"linecolor\":\"white\",\"ticks\":\"\"},\"radialaxis\":{\"gridcolor\":\"white\",\"linecolor\":\"white\",\"ticks\":\"\"}},\"ternary\":{\"bgcolor\":\"#E5ECF6\",\"aaxis\":{\"gridcolor\":\"white\",\"linecolor\":\"white\",\"ticks\":\"\"},\"baxis\":{\"gridcolor\":\"white\",\"linecolor\":\"white\",\"ticks\":\"\"},\"caxis\":{\"gridcolor\":\"white\",\"linecolor\":\"white\",\"ticks\":\"\"}},\"coloraxis\":{\"colorbar\":{\"outlinewidth\":0,\"ticks\":\"\"}},\"colorscale\":{\"sequential\":[[0.0,\"#0d0887\"],[0.1111111111111111,\"#46039f\"],[0.2222222222222222,\"#7201a8\"],[0.3333333333333333,\"#9c179e\"],[0.4444444444444444,\"#bd3786\"],[0.5555555555555556,\"#d8576b\"],[0.6666666666666666,\"#ed7953\"],[0.7777777777777778,\"#fb9f3a\"],[0.8888888888888888,\"#fdca26\"],[1.0,\"#f0f921\"]],\"sequentialminus\":[[0.0,\"#0d0887\"],[0.1111111111111111,\"#46039f\"],[0.2222222222222222,\"#7201a8\"],[0.3333333333333333,\"#9c179e\"],[0.4444444444444444,\"#bd3786\"],[0.5555555555555556,\"#d8576b\"],[0.6666666666666666,\"#ed7953\"],[0.7777777777777778,\"#fb9f3a\"],[0.8888888888888888,\"#fdca26\"],[1.0,\"#f0f921\"]],\"diverging\":[[0,\"#8e0152\"],[0.1,\"#c51b7d\"],[0.2,\"#de77ae\"],[0.3,\"#f1b6da\"],[0.4,\"#fde0ef\"],[0.5,\"#f7f7f7\"],[0.6,\"#e6f5d0\"],[0.7,\"#b8e186\"],[0.8,\"#7fbc41\"],[0.9,\"#4d9221\"],[1,\"#276419\"]]},\"xaxis\":{\"gridcolor\":\"white\",\"linecolor\":\"white\",\"ticks\":\"\",\"title\":{\"standoff\":15},\"zerolinecolor\":\"white\",\"automargin\":true,\"zerolinewidth\":2},\"yaxis\":{\"gridcolor\":\"white\",\"linecolor\":\"white\",\"ticks\":\"\",\"title\":{\"standoff\":15},\"zerolinecolor\":\"white\",\"automargin\":true,\"zerolinewidth\":2},\"scene\":{\"xaxis\":{\"backgroundcolor\":\"#E5ECF6\",\"gridcolor\":\"white\",\"linecolor\":\"white\",\"showbackground\":true,\"ticks\":\"\",\"zerolinecolor\":\"white\",\"gridwidth\":2},\"yaxis\":{\"backgroundcolor\":\"#E5ECF6\",\"gridcolor\":\"white\",\"linecolor\":\"white\",\"showbackground\":true,\"ticks\":\"\",\"zerolinecolor\":\"white\",\"gridwidth\":2},\"zaxis\":{\"backgroundcolor\":\"#E5ECF6\",\"gridcolor\":\"white\",\"linecolor\":\"white\",\"showbackground\":true,\"ticks\":\"\",\"zerolinecolor\":\"white\",\"gridwidth\":2}},\"shapedefaults\":{\"line\":{\"color\":\"#2a3f5f\"}},\"annotationdefaults\":{\"arrowcolor\":\"#2a3f5f\",\"arrowhead\":0,\"arrowwidth\":1},\"geo\":{\"bgcolor\":\"white\",\"landcolor\":\"#E5ECF6\",\"subunitcolor\":\"white\",\"showland\":true,\"showlakes\":true,\"lakecolor\":\"white\"},\"title\":{\"x\":0.05},\"mapbox\":{\"style\":\"light\"}}},\"xaxis\":{\"anchor\":\"y\",\"domain\":[0.0,1.0],\"side\":\"bottom\",\"type\":\"linear\",\"ticks\":\"outside\",\"showline\":true,\"zeroline\":true,\"linewidth\":1,\"linecolor\":\"black\",\"mirror\":false,\"showexponent\":\"all\",\"exponentformat\":\"e\"},\"yaxis\":{\"anchor\":\"x\",\"domain\":[0.0,1.0],\"side\":\"left\",\"type\":\"linear\",\"ticks\":\"outside\",\"showline\":true,\"zeroline\":true,\"linewidth\":1,\"linecolor\":\"black\",\"mirror\":false,\"showexponent\":\"all\",\"exponentformat\":\"e\"},\"annotations\":[{\"font\":{\"size\":16},\"showarrow\":false,\"text\":\"H1\",\"x\":0.5,\"xanchor\":\"center\",\"xref\":\"paper\",\"y\":1.0,\"yanchor\":\"bottom\",\"yref\":\"paper\"}],\"title\":{\"text\":\"Landscape representations of diagram 0\"},\"plot_bgcolor\":\"white\"},                        {\"responsive\": true}                    ).then(function(){\n",
       "                            \n",
       "var gd = document.getElementById('ede3ada3-e6df-4a91-97af-57133c838fb2');\n",
       "var x = new MutationObserver(function (mutations, observer) {{\n",
       "        var display = window.getComputedStyle(gd).display;\n",
       "        if (!display || display === 'none') {{\n",
       "            console.log([gd, 'removed!']);\n",
       "            Plotly.purge(gd);\n",
       "            observer.disconnect();\n",
       "        }}\n",
       "}});\n",
       "\n",
       "// Listen for the removal of the full notebook cells\n",
       "var notebookContainer = gd.closest('#notebook-container');\n",
       "if (notebookContainer) {{\n",
       "    x.observe(notebookContainer, {childList: true});\n",
       "}}\n",
       "\n",
       "// Listen for the clearing of the current output cell\n",
       "var outputEl = gd.closest('.output');\n",
       "if (outputEl) {{\n",
       "    x.observe(outputEl, {childList: true});\n",
       "}}\n",
       "\n",
       "                        })                };                });            </script>        </div>"
      ]
     },
     "metadata": {},
     "output_type": "display_data"
    }
   ],
   "source": [
    "# Plot the persistence diagram and landscape for a random point cloud sliding window\n",
    "from gtda.homology import VietorisRipsPersistence\n",
    "pointcloud = X_sw[25]\n",
    "\n",
    "vrp = VietorisRipsPersistence()\n",
    "vrp.fit_transform_plot(pointcloud.reshape(1, *pointcloud.shape))\n",
    "plt.show()\n",
    "\n",
    "pl = PersistenceLandscape()\n",
    "persistencediagram = vrp.fit_transform(pointcloud.reshape(1, *pointcloud.shape))\n",
    "landscapedata = pl.fit_transform(persistencediagram)\n",
    "pl.plot(landscapedata, homology_dimensions = [1], plotly_params=None)"
   ]
  },
  {
   "cell_type": "code",
   "execution_count": 186,
   "id": "27127c0d",
   "metadata": {},
   "outputs": [],
   "source": [
    "# Functions to compute the Lp norms\n",
    "# Find the range of x values from the persistence diagram:\n",
    "def Ftseq(diagram):\n",
    "    births =[]\n",
    "    deaths =[]\n",
    "    for pair in diagram:\n",
    "        if pair[2] == 1:\n",
    "            births.append(pair[0])\n",
    "            deaths.append(pair[1])\n",
    "    return np.linspace(min(births), max(deaths), 100)\n",
    "\n",
    "# Calculate Lp norm:\n",
    "def Lpnorm(tseq, landscapevalues, p = 1):\n",
    "    norms = []\n",
    "    if p.lower() == 'auc':\n",
    "        for point in zip(tseq,landscapevalues):\n",
    "            norms.append(np.trapz(landscapevalues, tseq))\n",
    "    else: \n",
    "        for point in zip(tseq,landscapevalues):\n",
    "            norms.append(np.linalg.norm(point, p))        \n",
    "    return sum(norms)"
   ]
  },
  {
   "cell_type": "code",
   "execution_count": 187,
   "id": "058729fa",
   "metadata": {},
   "outputs": [],
   "source": [
    "# Calculate the norms for each of the windows in the multivariate sliding window\n",
    "\n",
    "# Initialize empty list\n",
    "Norms = np.empty(window_size)\n",
    "Norms[:] = np.nan\n",
    "Norms = list(Norms)\n",
    "vrp = VietorisRipsPersistence()\n",
    "pl = PersistenceLandscape()\n",
    "for pointcloud in X_sw:\n",
    "    persistencediagram = vrp.fit_transform(pointcloud.reshape(1, *pointcloud.shape))\n",
    "    landscapedata = pl.fit_transform(persistencediagram)\n",
    "    tseq = Ftseq(persistencediagram[0])\n",
    "    yvalues = landscapedata[0][1]\n",
    "    Norms.append(Lpnorm(tseq, yvalues, p = 'auc'))"
   ]
  },
  {
   "cell_type": "code",
   "execution_count": 188,
   "id": "5f80beb3",
   "metadata": {},
   "outputs": [
    {
     "data": {
      "text/html": [
       "<div>\n",
       "<style scoped>\n",
       "    .dataframe tbody tr th:only-of-type {\n",
       "        vertical-align: middle;\n",
       "    }\n",
       "\n",
       "    .dataframe tbody tr th {\n",
       "        vertical-align: top;\n",
       "    }\n",
       "\n",
       "    .dataframe thead th {\n",
       "        text-align: right;\n",
       "    }\n",
       "</style>\n",
       "<table border=\"1\" class=\"dataframe\">\n",
       "  <thead>\n",
       "    <tr style=\"text-align: right;\">\n",
       "      <th></th>\n",
       "      <th>United States</th>\n",
       "      <th>China</th>\n",
       "      <th>Norms</th>\n",
       "      <th>Norms Normalized</th>\n",
       "    </tr>\n",
       "    <tr>\n",
       "      <th>Year</th>\n",
       "      <th></th>\n",
       "      <th></th>\n",
       "      <th></th>\n",
       "      <th></th>\n",
       "    </tr>\n",
       "  </thead>\n",
       "  <tbody>\n",
       "    <tr>\n",
       "      <th>1960</th>\n",
       "      <td>3007.123445</td>\n",
       "      <td>89.520542</td>\n",
       "      <td>NaN</td>\n",
       "      <td>NaN</td>\n",
       "    </tr>\n",
       "    <tr>\n",
       "      <th>1961</th>\n",
       "      <td>3066.562869</td>\n",
       "      <td>75.805838</td>\n",
       "      <td>NaN</td>\n",
       "      <td>NaN</td>\n",
       "    </tr>\n",
       "    <tr>\n",
       "      <th>1962</th>\n",
       "      <td>3243.843078</td>\n",
       "      <td>70.909412</td>\n",
       "      <td>NaN</td>\n",
       "      <td>NaN</td>\n",
       "    </tr>\n",
       "    <tr>\n",
       "      <th>1963</th>\n",
       "      <td>3374.515171</td>\n",
       "      <td>74.313643</td>\n",
       "      <td>NaN</td>\n",
       "      <td>NaN</td>\n",
       "    </tr>\n",
       "    <tr>\n",
       "      <th>1964</th>\n",
       "      <td>3573.941185</td>\n",
       "      <td>85.498555</td>\n",
       "      <td>NaN</td>\n",
       "      <td>NaN</td>\n",
       "    </tr>\n",
       "    <tr>\n",
       "      <th>...</th>\n",
       "      <td>...</td>\n",
       "      <td>...</td>\n",
       "      <td>...</td>\n",
       "      <td>...</td>\n",
       "    </tr>\n",
       "    <tr>\n",
       "      <th>2017</th>\n",
       "      <td>59914.777797</td>\n",
       "      <td>8816.986905</td>\n",
       "      <td>0.000000</td>\n",
       "      <td>0.0000</td>\n",
       "    </tr>\n",
       "    <tr>\n",
       "      <th>2018</th>\n",
       "      <td>62805.253758</td>\n",
       "      <td>9905.342004</td>\n",
       "      <td>0.000000</td>\n",
       "      <td>0.0000</td>\n",
       "    </tr>\n",
       "    <tr>\n",
       "      <th>2019</th>\n",
       "      <td>65094.799429</td>\n",
       "      <td>10143.838196</td>\n",
       "      <td>0.000000</td>\n",
       "      <td>0.0000</td>\n",
       "    </tr>\n",
       "    <tr>\n",
       "      <th>2020</th>\n",
       "      <td>63027.679527</td>\n",
       "      <td>10408.669756</td>\n",
       "      <td>0.000033</td>\n",
       "      <td>0.0315</td>\n",
       "    </tr>\n",
       "    <tr>\n",
       "      <th>2021</th>\n",
       "      <td>69287.536588</td>\n",
       "      <td>12556.333120</td>\n",
       "      <td>0.000000</td>\n",
       "      <td>0.0000</td>\n",
       "    </tr>\n",
       "  </tbody>\n",
       "</table>\n",
       "<p>62 rows × 4 columns</p>\n",
       "</div>"
      ],
      "text/plain": [
       "      United States         China     Norms  Norms Normalized\n",
       "Year                                                         \n",
       "1960    3007.123445     89.520542       NaN               NaN\n",
       "1961    3066.562869     75.805838       NaN               NaN\n",
       "1962    3243.843078     70.909412       NaN               NaN\n",
       "1963    3374.515171     74.313643       NaN               NaN\n",
       "1964    3573.941185     85.498555       NaN               NaN\n",
       "...             ...           ...       ...               ...\n",
       "2017   59914.777797   8816.986905  0.000000            0.0000\n",
       "2018   62805.253758   9905.342004  0.000000            0.0000\n",
       "2019   65094.799429  10143.838196  0.000000            0.0000\n",
       "2020   63027.679527  10408.669756  0.000033            0.0315\n",
       "2021   69287.536588  12556.333120  0.000000            0.0000\n",
       "\n",
       "[62 rows x 4 columns]"
      ]
     },
     "execution_count": 188,
     "metadata": {},
     "output_type": "execute_result"
    }
   ],
   "source": [
    "from sklearn.preprocessing import MinMaxScaler\n",
    "scaler = MinMaxScaler()\n",
    "gdpSubset['Norms'] = Norms\n",
    "gdpSubset['Norms Normalized'] = scaler.fit_transform(np.array(gdpSubset['Norms']).reshape(-1, 1)).reshape(-1)\n",
    "gdpSubset"
   ]
  },
  {
   "cell_type": "code",
   "execution_count": 189,
   "id": "497b8d54",
   "metadata": {},
   "outputs": [
    {
     "data": {
      "image/png": "[encoded data removed]",
      "text/plain": [
       "<Figure size 1152x576 with 2 Axes>"
      ]
     },
     "metadata": {
      "needs_background": "light"
     },
     "output_type": "display_data"
    }
   ],
   "source": [
    "figure(figsize= (16,8))\n",
    "sns.lineplot(data= gdpSubset.drop(['Norms', 'Norms Normalized'], axis = 1), legend = True)\n",
    "ax2 = plt.twinx()\n",
    "sns.lineplot(data= gdpSubset['Norms Normalized'], color=\"r\", ax=ax2, legend = False)\n",
    "plt.title('GDP Per Capita & Normalized L1 Norm')\n",
    "plt.show()"
   ]
  },
  {
   "cell_type": "code",
   "execution_count": null,
   "id": "3c7a1c7f",
   "metadata": {},
   "outputs": [],
   "source": []
  },
  {
   "cell_type": "code",
   "execution_count": null,
   "id": "3f8bffe5",
   "metadata": {},
   "outputs": [],
   "source": []
  }
 ],
 "metadata": {
  "kernelspec": {
   "display_name": "Python 3 (ipykernel)",
   "language": "python",
   "name": "python3"
  },
  "language_info": {
   "codemirror_mode": {
    "name": "ipython",
    "version": 3
   },
   "file_extension": ".py",
   "mimetype": "text/x-python",
   "name": "python",
   "nbconvert_exporter": "python",
   "pygments_lexer": "ipython3",
   "version": "3.9.12"
  }
 },
 "nbformat": 4,
 "nbformat_minor": 5
}
